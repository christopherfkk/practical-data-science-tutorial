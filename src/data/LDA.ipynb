{
 "cells": [
  {
   "cell_type": "code",
   "execution_count": 7,
   "metadata": {},
   "outputs": [],
   "source": [
    "import gspread\n",
    "from oauth2client.service_account import ServiceAccountCredentials\n",
    "import re"
   ]
  },
  {
   "cell_type": "code",
   "execution_count": 5,
   "metadata": {},
   "outputs": [],
   "source": [
    "# Define the path to OAuth2 credentials JSON file\n",
    "creds_path = r'C:\\Users\\cathe\\practical-data-science-tutorial\\src\\data\\credentials.json'\n",
    "\n",
    "# Define the name of Google Sheet\n",
    "google_sheet_name = 'Fantastic Four altmetric-data-individual'\n",
    "\n",
    "# Define the name of the specific sheet within the Google Sheet\n",
    "specific_sheet_name = 'Health and medical sciences'\n",
    "\n",
    "# Initialize the Google Sheets client\n",
    "scope = ['https://spreadsheets.google.com/feeds',\n",
    "         'https://www.googleapis.com/auth/drive']\n",
    "creds = ServiceAccountCredentials.from_json_keyfile_name(creds_path, scope)\n",
    "client = gspread.authorize(creds)\n",
    "\n",
    "# Open the Google Sheet\n",
    "sheet = client.open(google_sheet_name).worksheet(specific_sheet_name)\n",
    "\n",
    "# Get a list of article names from the Google Sheet\n",
    "article_names = sheet.col_values(3)[1:]  # Article names are in the third column"
   ]
  },
  {
   "cell_type": "code",
   "execution_count": 6,
   "metadata": {},
   "outputs": [
    {
     "data": {
      "text/plain": [
       "'The psychological impact of quarantine and how to reduce it: rapid review of the evidence'"
      ]
     },
     "execution_count": 6,
     "metadata": {},
     "output_type": "execute_result"
    }
   ],
   "source": [
    "article_names[0]"
   ]
  },
  {
   "cell_type": "code",
   "execution_count": null,
   "metadata": {},
   "outputs": [],
   "source": []
  }
 ],
 "metadata": {
  "kernelspec": {
   "display_name": "Python 3",
   "language": "python",
   "name": "python3"
  },
  "language_info": {
   "codemirror_mode": {
    "name": "ipython",
    "version": 3
   },
   "file_extension": ".py",
   "mimetype": "text/x-python",
   "name": "python",
   "nbconvert_exporter": "python",
   "pygments_lexer": "ipython3",
   "version": "3.10.2"
  }
 },
 "nbformat": 4,
 "nbformat_minor": 2
}
