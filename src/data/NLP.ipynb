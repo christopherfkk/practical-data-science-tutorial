{
 "cells": [
  {
   "cell_type": "code",
   "execution_count": 1,
   "metadata": {},
   "outputs": [
    {
     "name": "stdout",
     "output_type": "stream",
     "text": [
      "Collecting gspread\n",
      "  Downloading gspread-5.11.3-py3-none-any.whl (46 kB)\n",
      "\u001b[K     |████████████████████████████████| 46 kB 252 kB/s eta 0:00:01\n",
      "\u001b[?25hCollecting google-auth-oauthlib>=0.4.1\n",
      "  Downloading google_auth_oauthlib-1.1.0-py2.py3-none-any.whl (19 kB)\n",
      "Collecting google-auth>=1.12.0\n",
      "  Downloading google_auth-2.23.3-py2.py3-none-any.whl (182 kB)\n",
      "\u001b[K     |████████████████████████████████| 182 kB 390 kB/s eta 0:00:01\n",
      "\u001b[?25hCollecting pyasn1-modules>=0.2.1\n",
      "  Downloading pyasn1_modules-0.3.0-py2.py3-none-any.whl (181 kB)\n",
      "\u001b[K     |████████████████████████████████| 181 kB 555 kB/s eta 0:00:01\n",
      "\u001b[?25hCollecting rsa<5,>=3.1.4\n",
      "  Downloading rsa-4.9-py3-none-any.whl (34 kB)\n",
      "Collecting cachetools<6.0,>=2.0.0\n",
      "  Downloading cachetools-5.3.1-py3-none-any.whl (9.3 kB)\n",
      "Collecting requests-oauthlib>=0.7.0\n",
      "  Downloading requests_oauthlib-1.3.1-py2.py3-none-any.whl (23 kB)\n",
      "Collecting pyasn1<0.6.0,>=0.4.6\n",
      "  Downloading pyasn1-0.5.0-py2.py3-none-any.whl (83 kB)\n",
      "\u001b[K     |████████████████████████████████| 83 kB 584 kB/s eta 0:00:01\n",
      "\u001b[?25hCollecting oauthlib>=3.0.0\n",
      "  Downloading oauthlib-3.2.2-py3-none-any.whl (151 kB)\n",
      "\u001b[K     |████████████████████████████████| 151 kB 447 kB/s eta 0:00:01\n",
      "\u001b[?25hCollecting requests>=2.0.0\n",
      "  Downloading requests-2.31.0-py3-none-any.whl (62 kB)\n",
      "\u001b[K     |████████████████████████████████| 62 kB 601 kB/s eta 0:00:01\n",
      "\u001b[?25hCollecting certifi>=2017.4.17\n",
      "  Downloading certifi-2023.7.22-py3-none-any.whl (158 kB)\n",
      "\u001b[K     |████████████████████████████████| 158 kB 362 kB/s eta 0:00:01\n",
      "\u001b[?25hCollecting urllib3<3,>=1.21.1\n",
      "  Downloading urllib3-2.0.6-py3-none-any.whl (123 kB)\n",
      "\u001b[K     |████████████████████████████████| 123 kB 327 kB/s eta 0:00:01\n",
      "\u001b[?25hCollecting charset-normalizer<4,>=2\n",
      "  Downloading charset_normalizer-3.3.0-cp39-cp39-macosx_10_9_x86_64.whl (119 kB)\n",
      "\u001b[K     |████████████████████████████████| 119 kB 368 kB/s eta 0:00:01\n",
      "\u001b[?25hCollecting idna<4,>=2.5\n",
      "  Downloading idna-3.4-py3-none-any.whl (61 kB)\n",
      "\u001b[K     |████████████████████████████████| 61 kB 234 kB/s eta 0:00:01\n",
      "\u001b[?25hInstalling collected packages: urllib3, pyasn1, idna, charset-normalizer, certifi, rsa, requests, pyasn1-modules, oauthlib, cachetools, requests-oauthlib, google-auth, google-auth-oauthlib, gspread\n",
      "Successfully installed cachetools-5.3.1 certifi-2023.7.22 charset-normalizer-3.3.0 google-auth-2.23.3 google-auth-oauthlib-1.1.0 gspread-5.11.3 idna-3.4 oauthlib-3.2.2 pyasn1-0.5.0 pyasn1-modules-0.3.0 requests-2.31.0 requests-oauthlib-1.3.1 rsa-4.9 urllib3-2.0.6\n",
      "\u001b[33mWARNING: You are using pip version 21.2.3; however, version 23.3 is available.\n",
      "You should consider upgrading via the '/usr/local/bin/python3 -m pip install --upgrade pip' command.\u001b[0m\n",
      "Note: you may need to restart the kernel to use updated packages.\n"
     ]
    }
   ],
   "source": [
    "%pip install gspread\n"
   ]
  },
  {
   "cell_type": "code",
   "execution_count": 3,
   "metadata": {},
   "outputs": [
    {
     "name": "stdout",
     "output_type": "stream",
     "text": [
      "Collecting oauth2client\n",
      "  Downloading oauth2client-4.1.3-py2.py3-none-any.whl (98 kB)\n",
      "\u001b[K     |████████████████████████████████| 98 kB 376 kB/s eta 0:00:01\n",
      "\u001b[?25hCollecting httplib2>=0.9.1\n",
      "  Downloading httplib2-0.22.0-py3-none-any.whl (96 kB)\n",
      "\u001b[K     |████████████████████████████████| 96 kB 1.5 MB/s eta 0:00:01\n",
      "\u001b[?25hRequirement already satisfied: rsa>=3.1.4 in /Library/Frameworks/Python.framework/Versions/3.9/lib/python3.9/site-packages (from oauth2client) (4.9)\n",
      "Requirement already satisfied: six>=1.6.1 in /Users/vladandreichuk/Library/Python/3.9/lib/python/site-packages (from oauth2client) (1.16.0)\n",
      "Requirement already satisfied: pyasn1-modules>=0.0.5 in /Library/Frameworks/Python.framework/Versions/3.9/lib/python3.9/site-packages (from oauth2client) (0.3.0)\n",
      "Requirement already satisfied: pyasn1>=0.1.7 in /Library/Frameworks/Python.framework/Versions/3.9/lib/python3.9/site-packages (from oauth2client) (0.5.0)\n",
      "Collecting pyparsing!=3.0.0,!=3.0.1,!=3.0.2,!=3.0.3,<4,>=2.4.2\n",
      "  Downloading pyparsing-3.1.1-py3-none-any.whl (103 kB)\n",
      "\u001b[K     |████████████████████████████████| 103 kB 2.1 MB/s eta 0:00:01\n",
      "\u001b[?25hInstalling collected packages: pyparsing, httplib2, oauth2client\n",
      "Successfully installed httplib2-0.22.0 oauth2client-4.1.3 pyparsing-3.1.1\n",
      "\u001b[33mWARNING: You are using pip version 21.2.3; however, version 23.3 is available.\n",
      "You should consider upgrading via the '/usr/local/bin/python3 -m pip install --upgrade pip' command.\u001b[0m\n",
      "Note: you may need to restart the kernel to use updated packages.\n"
     ]
    }
   ],
   "source": [
    "%pip install oauth2client"
   ]
  },
  {
   "cell_type": "code",
   "execution_count": 2,
   "metadata": {},
   "outputs": [],
   "source": [
    "import gspread\n",
    "from oauth2client.service_account import ServiceAccountCredentials"
   ]
  },
  {
   "cell_type": "code",
   "execution_count": 5,
   "metadata": {},
   "outputs": [],
   "source": [
    "creds_path = '/Users/vladandreichuk/Desktop/practical-data-science-tutorial/src/data/credentials.json'\n",
    "# Define the path to OAuth2 credentials JSON file\n",
    "\n",
    "# Define the name of Google Sheet\n",
    "google_sheet_name = 'Fantastic Four altmetric-data-individual'\n",
    "\n",
    "# Define the name of the specific sheet within the Google Sheet\n",
    "specific_sheet_name = 'Health and medical sciences'\n",
    "\n",
    "# Initialize the Google Sheets client\n",
    "scope = ['https://spreadsheets.google.com/feeds',\n",
    "         'https://www.googleapis.com/auth/drive']\n",
    "creds = ServiceAccountCredentials.from_json_keyfile_name(creds_path, scope)\n",
    "client = gspread.authorize(creds)\n",
    "\n",
    "# Open the Google Sheet\n",
    "sheet = client.open(google_sheet_name).worksheet(specific_sheet_name)\n",
    "\n",
    "# Get a list of article names from the Google Sheet\n",
    "article_names = sheet.col_values(3)[1:]  # Article names are in the third column"
   ]
  },
  {
   "cell_type": "code",
   "execution_count": 1,
   "metadata": {},
   "outputs": [
    {
     "ename": "NameError",
     "evalue": "name 'article_names' is not defined",
     "output_type": "error",
     "traceback": [
      "\u001b[0;31m---------------------------------------------------------------------------\u001b[0m",
      "\u001b[0;31mNameError\u001b[0m                                 Traceback (most recent call last)",
      "\u001b[1;32m/Users/vladandreichuk/Desktop/practical-data-science-tutorial/src/data/NLP.ipynb Cell 5\u001b[0m line \u001b[0;36m1\n\u001b[0;32m----> <a href='vscode-notebook-cell:/Users/vladandreichuk/Desktop/practical-data-science-tutorial/src/data/NLP.ipynb#W4sZmlsZQ%3D%3D?line=0'>1</a>\u001b[0m article_names[:\u001b[39m10\u001b[39m]\n",
      "\u001b[0;31mNameError\u001b[0m: name 'article_names' is not defined"
     ]
    }
   ],
   "source": [
    "article_names[:10]"
   ]
  },
  {
   "cell_type": "code",
   "execution_count": null,
   "metadata": {},
   "outputs": [],
   "source": []
  }
 ],
 "metadata": {
  "kernelspec": {
   "display_name": "Python 3",
   "language": "python",
   "name": "python3"
  },
  "language_info": {
   "codemirror_mode": {
    "name": "ipython",
    "version": 3
   },
   "file_extension": ".py",
   "mimetype": "text/x-python",
   "name": "python",
   "nbconvert_exporter": "python",
   "pygments_lexer": "ipython3",
   "version": "3.9.7"
  },
  "orig_nbformat": 4
 },
 "nbformat": 4,
 "nbformat_minor": 2
}
