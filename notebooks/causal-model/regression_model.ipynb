{
 "cells": [
  {
   "cell_type": "code",
   "execution_count": 2,
   "metadata": {
    "vscode": {
     "languageId": "r"
    }
   },
   "outputs": [
    {
     "data": {
      "text/html": [
       "<table class=\"dataframe\">\n",
       "<caption>A data.frame: 6 × 7</caption>\n",
       "<thead>\n",
       "\t<tr><th></th><th scope=col>study_id</th><th scope=col>link_to_study</th><th scope=col>study_title</th><th scope=col>study_year</th><th scope=col>Journal</th><th scope=col>Citations</th><th scope=col>Label</th></tr>\n",
       "\t<tr><th></th><th scope=col>&lt;chr&gt;</th><th scope=col>&lt;chr&gt;</th><th scope=col>&lt;chr&gt;</th><th scope=col>&lt;int&gt;</th><th scope=col>&lt;chr&gt;</th><th scope=col>&lt;int&gt;</th><th scope=col>&lt;chr&gt;</th></tr>\n",
       "</thead>\n",
       "<tbody>\n",
       "\t<tr><th scope=row>1</th><td>hm0052</td><td>https://www.nature.com/articles/nm.4333                 </td><td>Mutational landscape of metastatic cancer revealed from prospective clinical sequencing of 10,000 patients         </td><td>2017</td><td>Nature Medicine</td><td>1</td><td>H_and_M</td></tr>\n",
       "\t<tr><th scope=row>2</th><td>hm0056</td><td>https://www.nature.com/articles/s41591-018-0016-8       </td><td>Molecular subtypes of diffuse large B cell lymphoma are associated with distinct pathogenic mechanisms and outcomes</td><td>2018</td><td>Nature Medicine</td><td>0</td><td>H_and_M</td></tr>\n",
       "\t<tr><th scope=row>3</th><td>hm0059</td><td>https://www.nature.com/articles/S41591-021-01294-w      </td><td>Resistance of SARS-CoV-2 variants to neutralization by monoclonal and serum-derived polyclonal antibodies          </td><td>2021</td><td>Nature Medicine</td><td>5</td><td>H_and_M</td></tr>\n",
       "\t<tr><th scope=row>4</th><td>hm0085</td><td>https://www.nature.com/articles/nm.4394                 </td><td>GFRAL is the receptor for GDF15 and is required for the anti-obesity effects of the ligand                         </td><td>2017</td><td>Nature Medicine</td><td>0</td><td>H_and_M</td></tr>\n",
       "\t<tr><th scope=row>5</th><td>hm0109</td><td>https://www.science.org/doi/full/10.1126/science.abc6952</td><td>A neutralizing human antibody binds to the N-terminal domain of the Spike protein of SARS-CoV-2                    </td><td>2020</td><td>Science        </td><td>0</td><td>H_and_M</td></tr>\n",
       "\t<tr><th scope=row>6</th><td>hm0114</td><td>https://www.science.org/doi/full/10.1126/science.abb8001</td><td>Changes in contact patterns shape the dynamics of the COVID-19 outbreak in China                                   </td><td>2020</td><td>Science        </td><td>0</td><td>H_and_M</td></tr>\n",
       "</tbody>\n",
       "</table>\n"
      ],
      "text/latex": [
       "A data.frame: 6 × 7\n",
       "\\begin{tabular}{r|lllllll}\n",
       "  & study\\_id & link\\_to\\_study & study\\_title & study\\_year & Journal & Citations & Label\\\\\n",
       "  & <chr> & <chr> & <chr> & <int> & <chr> & <int> & <chr>\\\\\n",
       "\\hline\n",
       "\t1 & hm0052 & https://www.nature.com/articles/nm.4333                  & Mutational landscape of metastatic cancer revealed from prospective clinical sequencing of 10,000 patients          & 2017 & Nature Medicine & 1 & H\\_and\\_M\\\\\n",
       "\t2 & hm0056 & https://www.nature.com/articles/s41591-018-0016-8        & Molecular subtypes of diffuse large B cell lymphoma are associated with distinct pathogenic mechanisms and outcomes & 2018 & Nature Medicine & 0 & H\\_and\\_M\\\\\n",
       "\t3 & hm0059 & https://www.nature.com/articles/S41591-021-01294-w       & Resistance of SARS-CoV-2 variants to neutralization by monoclonal and serum-derived polyclonal antibodies           & 2021 & Nature Medicine & 5 & H\\_and\\_M\\\\\n",
       "\t4 & hm0085 & https://www.nature.com/articles/nm.4394                  & GFRAL is the receptor for GDF15 and is required for the anti-obesity effects of the ligand                          & 2017 & Nature Medicine & 0 & H\\_and\\_M\\\\\n",
       "\t5 & hm0109 & https://www.science.org/doi/full/10.1126/science.abc6952 & A neutralizing human antibody binds to the N-terminal domain of the Spike protein of SARS-CoV-2                     & 2020 & Science         & 0 & H\\_and\\_M\\\\\n",
       "\t6 & hm0114 & https://www.science.org/doi/full/10.1126/science.abb8001 & Changes in contact patterns shape the dynamics of the COVID-19 outbreak in China                                    & 2020 & Science         & 0 & H\\_and\\_M\\\\\n",
       "\\end{tabular}\n"
      ],
      "text/markdown": [
       "\n",
       "A data.frame: 6 × 7\n",
       "\n",
       "| <!--/--> | study_id &lt;chr&gt; | link_to_study &lt;chr&gt; | study_title &lt;chr&gt; | study_year &lt;int&gt; | Journal &lt;chr&gt; | Citations &lt;int&gt; | Label &lt;chr&gt; |\n",
       "|---|---|---|---|---|---|---|---|\n",
       "| 1 | hm0052 | https://www.nature.com/articles/nm.4333                  | Mutational landscape of metastatic cancer revealed from prospective clinical sequencing of 10,000 patients          | 2017 | Nature Medicine | 1 | H_and_M |\n",
       "| 2 | hm0056 | https://www.nature.com/articles/s41591-018-0016-8        | Molecular subtypes of diffuse large B cell lymphoma are associated with distinct pathogenic mechanisms and outcomes | 2018 | Nature Medicine | 0 | H_and_M |\n",
       "| 3 | hm0059 | https://www.nature.com/articles/S41591-021-01294-w       | Resistance of SARS-CoV-2 variants to neutralization by monoclonal and serum-derived polyclonal antibodies           | 2021 | Nature Medicine | 5 | H_and_M |\n",
       "| 4 | hm0085 | https://www.nature.com/articles/nm.4394                  | GFRAL is the receptor for GDF15 and is required for the anti-obesity effects of the ligand                          | 2017 | Nature Medicine | 0 | H_and_M |\n",
       "| 5 | hm0109 | https://www.science.org/doi/full/10.1126/science.abc6952 | A neutralizing human antibody binds to the N-terminal domain of the Spike protein of SARS-CoV-2                     | 2020 | Science         | 0 | H_and_M |\n",
       "| 6 | hm0114 | https://www.science.org/doi/full/10.1126/science.abb8001 | Changes in contact patterns shape the dynamics of the COVID-19 outbreak in China                                    | 2020 | Science         | 0 | H_and_M |\n",
       "\n"
      ],
      "text/plain": [
       "  study_id link_to_study                                           \n",
       "1 hm0052   https://www.nature.com/articles/nm.4333                 \n",
       "2 hm0056   https://www.nature.com/articles/s41591-018-0016-8       \n",
       "3 hm0059   https://www.nature.com/articles/S41591-021-01294-w      \n",
       "4 hm0085   https://www.nature.com/articles/nm.4394                 \n",
       "5 hm0109   https://www.science.org/doi/full/10.1126/science.abc6952\n",
       "6 hm0114   https://www.science.org/doi/full/10.1126/science.abb8001\n",
       "  study_title                                                                                                        \n",
       "1 Mutational landscape of metastatic cancer revealed from prospective clinical sequencing of 10,000 patients         \n",
       "2 Molecular subtypes of diffuse large B cell lymphoma are associated with distinct pathogenic mechanisms and outcomes\n",
       "3 Resistance of SARS-CoV-2 variants to neutralization by monoclonal and serum-derived polyclonal antibodies          \n",
       "4 GFRAL is the receptor for GDF15 and is required for the anti-obesity effects of the ligand                         \n",
       "5 A neutralizing human antibody binds to the N-terminal domain of the Spike protein of SARS-CoV-2                    \n",
       "6 Changes in contact patterns shape the dynamics of the COVID-19 outbreak in China                                   \n",
       "  study_year Journal         Citations Label  \n",
       "1 2017       Nature Medicine 1         H_and_M\n",
       "2 2018       Nature Medicine 0         H_and_M\n",
       "3 2021       Nature Medicine 5         H_and_M\n",
       "4 2017       Nature Medicine 0         H_and_M\n",
       "5 2020       Science         0         H_and_M\n",
       "6 2020       Science         0         H_and_M"
      ]
     },
     "metadata": {},
     "output_type": "display_data"
    }
   ],
   "source": [
    "# import dataset\n",
    "data <- read.csv(\"../data-prep/finaldataset.csv\")\n",
    "head(data)"
   ]
  },
  {
   "cell_type": "code",
   "execution_count": null,
   "metadata": {
    "vscode": {
     "languageId": "r"
    }
   },
   "outputs": [],
   "source": [
    "# # code for a regression model\n",
    "# model <- lm(MC ~ CL + Citations, data = data)\n",
    "# summary(model)"
   ]
  }
 ],
 "metadata": {
  "kernelspec": {
   "display_name": "R",
   "language": "R",
   "name": "ir"
  },
  "language_info": {
   "codemirror_mode": "r",
   "file_extension": ".r",
   "mimetype": "text/x-r-source",
   "name": "R",
   "pygments_lexer": "r",
   "version": "4.1.2"
  }
 },
 "nbformat": 4,
 "nbformat_minor": 2
}
