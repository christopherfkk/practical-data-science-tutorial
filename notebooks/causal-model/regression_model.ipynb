{
 "cells": [
  {
   "cell_type": "code",
   "execution_count": 2,
   "metadata": {
    "vscode": {
     "languageId": "r"
    }
   },
   "outputs": [
    {
     "data": {
      "text/html": [
       "<table class=\"dataframe\">\n",
       "<caption>A data.frame: 6 × 17</caption>\n",
       "<thead>\n",
       "\t<tr><th></th><th scope=col>s</th><th scope=col>link_to_study</th><th scope=col>study_title</th><th scope=col>study_year</th><th scope=col>Journal</th><th scope=col>H.index</th><th scope=col>Citations</th><th scope=col>Label</th><th scope=col>Altmetric_Link</th><th scope=col>News_Articles</th><th scope=col>News_Outlets</th><th scope=col>Abdullah_Confidence</th><th scope=col>Catherine_Confidence</th><th scope=col>Vlad_Confidence</th><th scope=col>Chris_Confidence</th><th scope=col>Confidence</th><th scope=col>study_in_2020</th></tr>\n",
       "\t<tr><th></th><th scope=col>&lt;chr&gt;</th><th scope=col>&lt;chr&gt;</th><th scope=col>&lt;chr&gt;</th><th scope=col>&lt;int&gt;</th><th scope=col>&lt;chr&gt;</th><th scope=col>&lt;int&gt;</th><th scope=col>&lt;int&gt;</th><th scope=col>&lt;chr&gt;</th><th scope=col>&lt;chr&gt;</th><th scope=col>&lt;int&gt;</th><th scope=col>&lt;int&gt;</th><th scope=col>&lt;int&gt;</th><th scope=col>&lt;int&gt;</th><th scope=col>&lt;int&gt;</th><th scope=col>&lt;int&gt;</th><th scope=col>&lt;int&gt;</th><th scope=col>&lt;int&gt;</th></tr>\n",
       "</thead>\n",
       "<tbody>\n",
       "\t<tr><th scope=row>1</th><td>hm0015</td><td>https://www.thelancet.com/journals/lancet/article/PIIS0140-6736(20)30526-2/fulltext?vid=184</td><td>COVID-19: the gendered impacts of the outbreak                                                                                                                                                                      </td><td>2020</td><td>Lancet         </td><td>855</td><td>1993</td><td>H_and_M</td><td>https://www.altmetric.com/details/77154228/news </td><td>126</td><td> 85</td><td>3</td><td>4</td><td>3</td><td>3</td><td>3</td><td>1</td></tr>\n",
       "\t<tr><th scope=row>2</th><td>hm0018</td><td>https://www.thelancet.com/journals/lancet/article/PIIS0140-6736(20)30673-5/fulltext        </td><td>COVID-19: towards controlling of a pandemic                                                                                                                                                                         </td><td>2020</td><td>Lancet         </td><td>855</td><td>1809</td><td>H_and_M</td><td>https://www.altmetric.com/details/77683134/news </td><td> 23</td><td> 11</td><td>2</td><td>1</td><td>1</td><td>1</td><td>1</td><td>1</td></tr>\n",
       "\t<tr><th scope=row>3</th><td>hm0021</td><td>https://www.sciencedirect.com/science/article/abs/pii/S0140673618304896                    </td><td>Prevention and treatment of low back pain: evidence, challenges, and promising directions                                                                                                                           </td><td>2018</td><td>Lancet         </td><td>855</td><td>1808</td><td>H_and_M</td><td>https://www.altmetric.com/details/34680366/news </td><td>286</td><td>238</td><td>3</td><td>3</td><td>4</td><td>4</td><td>3</td><td>0</td></tr>\n",
       "\t<tr><th scope=row>4</th><td>hm0026</td><td>https://www.thelancet.com/journals/lancet/article/PIIS0140-6736(17)30638-4/supplemental    </td><td>Effect of early tranexamic acid administration on mortality, hysterectomy, and other morbidities in women with post-partum haemorrhage (WOMAN): an international, randomised, double-blind, placebo-controlled trial</td><td>2017</td><td>Lancet         </td><td>855</td><td>1311</td><td>H_and_M</td><td>https://www.altmetric.com/details/19611878/news </td><td>121</td><td> 99</td><td>3</td><td>4</td><td>4</td><td>4</td><td>3</td><td>0</td></tr>\n",
       "\t<tr><th scope=row>5</th><td>hm0037</td><td>https://www.thelancet.com/journals/laninf/article/PIIS0140-6736(20)32000-6/fulltext        </td><td>Offline: COVID-19 is not a pandemic                                                                                                                                                                                 </td><td>2020</td><td>Lancet         </td><td>855</td><td>1246</td><td>H_and_M</td><td>https://www.altmetric.com/details/91175038/news </td><td>104</td><td> 74</td><td>5</td><td>5</td><td>5</td><td>5</td><td>5</td><td>1</td></tr>\n",
       "\t<tr><th scope=row>6</th><td>hm0059</td><td>https://www.nature.com/articles/S41591-021-01294-w                                         </td><td>Resistance of SARS-CoV-2 variants to neutralization by monoclonal and serum-derived polyclonal antibodies                                                                                                           </td><td>2021</td><td>Nature Medicine</td><td>605</td><td> 825</td><td>H_and_M</td><td>https://www.altmetric.com/details/101289502/news</td><td> 95</td><td> 78</td><td>4</td><td>2</td><td>4</td><td>4</td><td>3</td><td>0</td></tr>\n",
       "</tbody>\n",
       "</table>\n"
      ],
      "text/latex": [
       "A data.frame: 6 × 17\n",
       "\\begin{tabular}{r|lllllllllllllllll}\n",
       "  & s & link\\_to\\_study & study\\_title & study\\_year & Journal & H.index & Citations & Label & Altmetric\\_Link & News\\_Articles & News\\_Outlets & Abdullah\\_Confidence & Catherine\\_Confidence & Vlad\\_Confidence & Chris\\_Confidence & Confidence & study\\_in\\_2020\\\\\n",
       "  & <chr> & <chr> & <chr> & <int> & <chr> & <int> & <int> & <chr> & <chr> & <int> & <int> & <int> & <int> & <int> & <int> & <int> & <int>\\\\\n",
       "\\hline\n",
       "\t1 & hm0015 & https://www.thelancet.com/journals/lancet/article/PIIS0140-6736(20)30526-2/fulltext?vid=184 & COVID-19: the gendered impacts of the outbreak                                                                                                                                                                       & 2020 & Lancet          & 855 & 1993 & H\\_and\\_M & https://www.altmetric.com/details/77154228/news  & 126 &  85 & 3 & 4 & 3 & 3 & 3 & 1\\\\\n",
       "\t2 & hm0018 & https://www.thelancet.com/journals/lancet/article/PIIS0140-6736(20)30673-5/fulltext         & COVID-19: towards controlling of a pandemic                                                                                                                                                                          & 2020 & Lancet          & 855 & 1809 & H\\_and\\_M & https://www.altmetric.com/details/77683134/news  &  23 &  11 & 2 & 1 & 1 & 1 & 1 & 1\\\\\n",
       "\t3 & hm0021 & https://www.sciencedirect.com/science/article/abs/pii/S0140673618304896                     & Prevention and treatment of low back pain: evidence, challenges, and promising directions                                                                                                                            & 2018 & Lancet          & 855 & 1808 & H\\_and\\_M & https://www.altmetric.com/details/34680366/news  & 286 & 238 & 3 & 3 & 4 & 4 & 3 & 0\\\\\n",
       "\t4 & hm0026 & https://www.thelancet.com/journals/lancet/article/PIIS0140-6736(17)30638-4/supplemental     & Effect of early tranexamic acid administration on mortality, hysterectomy, and other morbidities in women with post-partum haemorrhage (WOMAN): an international, randomised, double-blind, placebo-controlled trial & 2017 & Lancet          & 855 & 1311 & H\\_and\\_M & https://www.altmetric.com/details/19611878/news  & 121 &  99 & 3 & 4 & 4 & 4 & 3 & 0\\\\\n",
       "\t5 & hm0037 & https://www.thelancet.com/journals/laninf/article/PIIS0140-6736(20)32000-6/fulltext         & Offline: COVID-19 is not a pandemic                                                                                                                                                                                  & 2020 & Lancet          & 855 & 1246 & H\\_and\\_M & https://www.altmetric.com/details/91175038/news  & 104 &  74 & 5 & 5 & 5 & 5 & 5 & 1\\\\\n",
       "\t6 & hm0059 & https://www.nature.com/articles/S41591-021-01294-w                                          & Resistance of SARS-CoV-2 variants to neutralization by monoclonal and serum-derived polyclonal antibodies                                                                                                            & 2021 & Nature Medicine & 605 &  825 & H\\_and\\_M & https://www.altmetric.com/details/101289502/news &  95 &  78 & 4 & 2 & 4 & 4 & 3 & 0\\\\\n",
       "\\end{tabular}\n"
      ],
      "text/markdown": [
       "\n",
       "A data.frame: 6 × 17\n",
       "\n",
       "| <!--/--> | s &lt;chr&gt; | link_to_study &lt;chr&gt; | study_title &lt;chr&gt; | study_year &lt;int&gt; | Journal &lt;chr&gt; | H.index &lt;int&gt; | Citations &lt;int&gt; | Label &lt;chr&gt; | Altmetric_Link &lt;chr&gt; | News_Articles &lt;int&gt; | News_Outlets &lt;int&gt; | Abdullah_Confidence &lt;int&gt; | Catherine_Confidence &lt;int&gt; | Vlad_Confidence &lt;int&gt; | Chris_Confidence &lt;int&gt; | Confidence &lt;int&gt; | study_in_2020 &lt;int&gt; |\n",
       "|---|---|---|---|---|---|---|---|---|---|---|---|---|---|---|---|---|---|\n",
       "| 1 | hm0015 | https://www.thelancet.com/journals/lancet/article/PIIS0140-6736(20)30526-2/fulltext?vid=184 | COVID-19: the gendered impacts of the outbreak                                                                                                                                                                       | 2020 | Lancet          | 855 | 1993 | H_and_M | https://www.altmetric.com/details/77154228/news  | 126 |  85 | 3 | 4 | 3 | 3 | 3 | 1 |\n",
       "| 2 | hm0018 | https://www.thelancet.com/journals/lancet/article/PIIS0140-6736(20)30673-5/fulltext         | COVID-19: towards controlling of a pandemic                                                                                                                                                                          | 2020 | Lancet          | 855 | 1809 | H_and_M | https://www.altmetric.com/details/77683134/news  |  23 |  11 | 2 | 1 | 1 | 1 | 1 | 1 |\n",
       "| 3 | hm0021 | https://www.sciencedirect.com/science/article/abs/pii/S0140673618304896                     | Prevention and treatment of low back pain: evidence, challenges, and promising directions                                                                                                                            | 2018 | Lancet          | 855 | 1808 | H_and_M | https://www.altmetric.com/details/34680366/news  | 286 | 238 | 3 | 3 | 4 | 4 | 3 | 0 |\n",
       "| 4 | hm0026 | https://www.thelancet.com/journals/lancet/article/PIIS0140-6736(17)30638-4/supplemental     | Effect of early tranexamic acid administration on mortality, hysterectomy, and other morbidities in women with post-partum haemorrhage (WOMAN): an international, randomised, double-blind, placebo-controlled trial | 2017 | Lancet          | 855 | 1311 | H_and_M | https://www.altmetric.com/details/19611878/news  | 121 |  99 | 3 | 4 | 4 | 4 | 3 | 0 |\n",
       "| 5 | hm0037 | https://www.thelancet.com/journals/laninf/article/PIIS0140-6736(20)32000-6/fulltext         | Offline: COVID-19 is not a pandemic                                                                                                                                                                                  | 2020 | Lancet          | 855 | 1246 | H_and_M | https://www.altmetric.com/details/91175038/news  | 104 |  74 | 5 | 5 | 5 | 5 | 5 | 1 |\n",
       "| 6 | hm0059 | https://www.nature.com/articles/S41591-021-01294-w                                          | Resistance of SARS-CoV-2 variants to neutralization by monoclonal and serum-derived polyclonal antibodies                                                                                                            | 2021 | Nature Medicine | 605 |  825 | H_and_M | https://www.altmetric.com/details/101289502/news |  95 |  78 | 4 | 2 | 4 | 4 | 3 | 0 |\n",
       "\n"
      ],
      "text/plain": [
       "  s     \n",
       "1 hm0015\n",
       "2 hm0018\n",
       "3 hm0021\n",
       "4 hm0026\n",
       "5 hm0037\n",
       "6 hm0059\n",
       "  link_to_study                                                                              \n",
       "1 https://www.thelancet.com/journals/lancet/article/PIIS0140-6736(20)30526-2/fulltext?vid=184\n",
       "2 https://www.thelancet.com/journals/lancet/article/PIIS0140-6736(20)30673-5/fulltext        \n",
       "3 https://www.sciencedirect.com/science/article/abs/pii/S0140673618304896                    \n",
       "4 https://www.thelancet.com/journals/lancet/article/PIIS0140-6736(17)30638-4/supplemental    \n",
       "5 https://www.thelancet.com/journals/laninf/article/PIIS0140-6736(20)32000-6/fulltext        \n",
       "6 https://www.nature.com/articles/S41591-021-01294-w                                         \n",
       "  study_title                                                                                                                                                                                                         \n",
       "1 COVID-19: the gendered impacts of the outbreak                                                                                                                                                                      \n",
       "2 COVID-19: towards controlling of a pandemic                                                                                                                                                                         \n",
       "3 Prevention and treatment of low back pain: evidence, challenges, and promising directions                                                                                                                           \n",
       "4 Effect of early tranexamic acid administration on mortality, hysterectomy, and other morbidities in women with post-partum haemorrhage (WOMAN): an international, randomised, double-blind, placebo-controlled trial\n",
       "5 Offline: COVID-19 is not a pandemic                                                                                                                                                                                 \n",
       "6 Resistance of SARS-CoV-2 variants to neutralization by monoclonal and serum-derived polyclonal antibodies                                                                                                           \n",
       "  study_year Journal         H.index Citations Label  \n",
       "1 2020       Lancet          855     1993      H_and_M\n",
       "2 2020       Lancet          855     1809      H_and_M\n",
       "3 2018       Lancet          855     1808      H_and_M\n",
       "4 2017       Lancet          855     1311      H_and_M\n",
       "5 2020       Lancet          855     1246      H_and_M\n",
       "6 2021       Nature Medicine 605      825      H_and_M\n",
       "  Altmetric_Link                                   News_Articles News_Outlets\n",
       "1 https://www.altmetric.com/details/77154228/news  126            85         \n",
       "2 https://www.altmetric.com/details/77683134/news   23            11         \n",
       "3 https://www.altmetric.com/details/34680366/news  286           238         \n",
       "4 https://www.altmetric.com/details/19611878/news  121            99         \n",
       "5 https://www.altmetric.com/details/91175038/news  104            74         \n",
       "6 https://www.altmetric.com/details/101289502/news  95            78         \n",
       "  Abdullah_Confidence Catherine_Confidence Vlad_Confidence Chris_Confidence\n",
       "1 3                   4                    3               3               \n",
       "2 2                   1                    1               1               \n",
       "3 3                   3                    4               4               \n",
       "4 3                   4                    4               4               \n",
       "5 5                   5                    5               5               \n",
       "6 4                   2                    4               4               \n",
       "  Confidence study_in_2020\n",
       "1 3          1            \n",
       "2 1          1            \n",
       "3 3          0            \n",
       "4 3          0            \n",
       "5 5          1            \n",
       "6 3          0            "
      ]
     },
     "metadata": {},
     "output_type": "display_data"
    }
   ],
   "source": [
    "# URL of the CSV file\n",
    "url = \"https://docs.google.com/spreadsheets/d/e/2PACX-1vS5TV2P7rUiDVAigl3eJDRJp7FamWfUw-mJUVB1rlf2ZABzEo4Qe3SUszyWuUwXRPJyPBz-2GteUIAL/pub?output=csv\"\n",
    "# import dataset\n",
    "data <- read.csv(url)\n",
    "head(data)"
   ]
  },
  {
   "cell_type": "code",
   "execution_count": 3,
   "metadata": {
    "vscode": {
     "languageId": "r"
    }
   },
   "outputs": [
    {
     "data": {
      "text/plain": [
       "\n",
       "Call:\n",
       "lm(formula = News_Articles ~ Confidence + Citations + H.index + \n",
       "    study_in_2020, data = data)\n",
       "\n",
       "Residuals:\n",
       "    Min      1Q  Median      3Q     Max \n",
       "-246.34  -24.22   -9.38    9.39  565.37 \n",
       "\n",
       "Coefficients:\n",
       "                Estimate Std. Error t value Pr(>|t|)    \n",
       "(Intercept)   -43.022672  26.944353  -1.597    0.114    \n",
       "Confidence     11.662349   9.256031   1.260    0.211    \n",
       "Citations       0.091989   0.013112   7.016 3.64e-10 ***\n",
       "H.index         0.004246   0.031119   0.136    0.892    \n",
       "study_in_2020   0.399211  18.614023   0.021    0.983    \n",
       "---\n",
       "Signif. codes:  0 '***' 0.001 '**' 0.01 '*' 0.05 '.' 0.1 ' ' 1\n",
       "\n",
       "Residual standard error: 84.67 on 93 degrees of freedom\n",
       "  (2 observations deleted due to missingness)\n",
       "Multiple R-squared:  0.4657,\tAdjusted R-squared:  0.4427 \n",
       "F-statistic: 20.27 on 4 and 93 DF,  p-value: 4.978e-12\n"
      ]
     },
     "metadata": {},
     "output_type": "display_data"
    }
   ],
   "source": [
    "# code for a regression model\n",
    "model <- lm(News_Articles ~ Confidence + Citations + H.index + study_in_2020, data = data)\n",
    "summary(model)"
   ]
  }
 ],
 "metadata": {
  "kernelspec": {
   "display_name": "R",
   "language": "R",
   "name": "ir"
  },
  "language_info": {
   "codemirror_mode": "r",
   "file_extension": ".r",
   "mimetype": "text/x-r-source",
   "name": "R",
   "pygments_lexer": "r",
   "version": "4.1.2"
  }
 },
 "nbformat": 4,
 "nbformat_minor": 2
}
