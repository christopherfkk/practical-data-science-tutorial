{
 "cells": [
  {
   "cell_type": "markdown",
   "metadata": {},
   "source": [
    "### Imports"
   ]
  },
  {
   "cell_type": "code",
   "execution_count": 30,
   "metadata": {},
   "outputs": [],
   "source": [
    "import gspread\n",
    "from oauth2client.service_account import ServiceAccountCredentials\n",
    "import nltk\n",
    "from nltk.corpus import stopwords\n",
    "from nltk.stem import WordNetLemmatizer\n",
    "from nltk import pos_tag, word_tokenize\n",
    "import re\n",
    "from sklearn.feature_extraction.text import CountVectorizer\n",
    "from sklearn.ensemble import RandomForestClassifier\n",
    "from sklearn.linear_model import LogisticRegression\n",
    "from sklearn.svm import SVC\n",
    "from sklearn.neighbors import KNeighborsClassifier\n",
    "from sklearn.tree import DecisionTreeClassifier\n",
    "from sklearn.naive_bayes import MultinomialNB\n",
    "from sklearn.ensemble import GradientBoostingClassifier\n",
    "from sklearn.neural_network import MLPClassifier\n",
    "from sklearn.model_selection import train_test_split, GridSearchCV, cross_val_score\n",
    "from sklearn.metrics import accuracy_score, f1_score, precision_score, recall_score, classification_report\n",
    "import numpy as np\n",
    "from sklearn.metrics import confusion_matrix\n",
    "import seaborn as sns\n",
    "import matplotlib.pyplot as plt"
   ]
  },
  {
   "cell_type": "markdown",
   "metadata": {},
   "source": [
    "### Accessing Paper Titles"
   ]
  },
  {
   "cell_type": "markdown",
   "metadata": {},
   "source": [
    "Unlabelled data"
   ]
  },
  {
   "cell_type": "code",
   "execution_count": 7,
   "metadata": {},
   "outputs": [],
   "source": [
    "# Define the path to OAuth2 credentials JSON file\n",
    "creds_path = r'C:\\Users\\cathe\\practical-data-science-tutorial\\src\\data\\credentials.json'\n",
    "\n",
    "# Define the name of Google Sheet\n",
    "google_sheet_name = 'Draft-dataset'\n",
    "\n",
    "# Define the name of the specific sheet within the Google Sheet\n",
    "specific_sheet_names = ['Health and medical sciences', 'Social sciences', 'Business, economics and management']\n",
    "\n",
    "# Initialize the Google Sheets client\n",
    "scope = ['https://spreadsheets.google.com/feeds',\n",
    "         'https://www.googleapis.com/auth/drive']\n",
    "creds = ServiceAccountCredentials.from_json_keyfile_name(creds_path, scope)\n",
    "client = gspread.authorize(creds)\n",
    "\n",
    "papers_unlabelled = []\n",
    "\n",
    "for specific_sheet_name in specific_sheet_names:\n",
    "    # Open the Google Sheet\n",
    "    sheet = client.open(google_sheet_name).worksheet(specific_sheet_name)\n",
    "\n",
    "    # Get list of article names from the sheet\n",
    "    papers = sheet.col_values(3)[1:]\n",
    "\n",
    "    # Add all article names to a single list\n",
    "    papers_unlabelled.extend(papers)"
   ]
  },
  {
   "cell_type": "code",
   "execution_count": 8,
   "metadata": {},
   "outputs": [
    {
     "data": {
      "text/plain": [
       "['The psychological impact of quarantine and how to reduce it: rapid review of the evidence',\n",
       " 'Global, regional, and national incidence, prevalence, and years lived with disability for 354 diseases and injuries for 195 countries and territories, 1990–2017: a systematic analysis for the Global Burden of Disease Study 2017',\n",
       " 'A novel coronavirus outbreak of global health concern']"
      ]
     },
     "execution_count": 8,
     "metadata": {},
     "output_type": "execute_result"
    }
   ],
   "source": [
    "papers_unlabelled[:3]"
   ]
  },
  {
   "cell_type": "markdown",
   "metadata": {},
   "source": [
    "Labelled data"
   ]
  },
  {
   "cell_type": "code",
   "execution_count": 9,
   "metadata": {},
   "outputs": [],
   "source": [
    "# Define the name of Google Sheet\n",
    "google_sheet_name = 'Draft-dataset'\n",
    "\n",
    "# Define the name of the specific sheet within the Google Sheet\n",
    "specific_sheet_name = 'Copy of finaldataset'\n",
    "\n",
    "# Initialize the Google Sheets client\n",
    "scope = ['https://spreadsheets.google.com/feeds',\n",
    "         'https://www.googleapis.com/auth/drive']\n",
    "creds = ServiceAccountCredentials.from_json_keyfile_name(creds_path, scope)\n",
    "client = gspread.authorize(creds)\n",
    "\n",
    "# Open the Google Sheet\n",
    "sheet = client.open(google_sheet_name).worksheet(specific_sheet_name)\n",
    "\n",
    "# Get list of article names & labels from the sheet\n",
    "papers_labelled = sheet.col_values(3)[1:]\n",
    "labels = sheet.col_values(15)[1:]"
   ]
  },
  {
   "cell_type": "code",
   "execution_count": 10,
   "metadata": {},
   "outputs": [],
   "source": [
    "labels = [int(float(i)) for i in labels]"
   ]
  },
  {
   "cell_type": "code",
   "execution_count": 11,
   "metadata": {},
   "outputs": [
    {
     "data": {
      "text/plain": [
       "(['COVID-19: the gendered impacts of the outbreak',\n",
       "  'COVID-19: towards controlling of a pandemic',\n",
       "  'Prevention and treatment of low back pain: evidence, challenges, and promising directions'],\n",
       " [3, 1, 3])"
      ]
     },
     "execution_count": 11,
     "metadata": {},
     "output_type": "execute_result"
    }
   ],
   "source": [
    "papers_labelled[:3], labels[:3]"
   ]
  },
  {
   "cell_type": "markdown",
   "metadata": {},
   "source": [
    "### Preprocessing"
   ]
  },
  {
   "cell_type": "code",
   "execution_count": 12,
   "metadata": {},
   "outputs": [
    {
     "name": "stderr",
     "output_type": "stream",
     "text": [
      "[nltk_data] Downloading package stopwords to\n",
      "[nltk_data]     C:\\Users\\cathe\\AppData\\Roaming\\nltk_data...\n",
      "[nltk_data]   Package stopwords is already up-to-date!\n",
      "[nltk_data] Downloading package punkt to\n",
      "[nltk_data]     C:\\Users\\cathe\\AppData\\Roaming\\nltk_data...\n",
      "[nltk_data]   Package punkt is already up-to-date!\n",
      "[nltk_data] Downloading package wordnet to\n",
      "[nltk_data]     C:\\Users\\cathe\\AppData\\Roaming\\nltk_data...\n",
      "[nltk_data]   Package wordnet is already up-to-date!\n",
      "[nltk_data] Downloading package averaged_perceptron_tagger to\n",
      "[nltk_data]     C:\\Users\\cathe\\AppData\\Roaming\\nltk_data...\n",
      "[nltk_data]   Package averaged_perceptron_tagger is already up-to-\n",
      "[nltk_data]       date!\n"
     ]
    }
   ],
   "source": [
    "# Download NLTK data for stopwords and lemmatisation\n",
    "nltk.download('stopwords')\n",
    "nltk.download('punkt')\n",
    "nltk.download('wordnet')\n",
    "nltk.download('averaged_perceptron_tagger')\n",
    "\n",
    "# Define stopwords to remove\n",
    "stop_words = stopwords.words('english')\n",
    "stop_words.extend(['covid19', 'sarscov2'])\n",
    "\n",
    "# Initialize lemmatiser\n",
    "lemmatizer = WordNetLemmatizer()\n",
    "\n",
    "# Map POS tags to WordNet tags for lemmatisation\n",
    "def get_wordnet_pos(treebank_tag):\n",
    "    if treebank_tag.startswith('J'):\n",
    "        return wordnet.ADJ\n",
    "    elif treebank_tag.startswith('V'):\n",
    "        return wordnet.VERB\n",
    "    elif treebank_tag.startswith('R'):\n",
    "        return wordnet.ADV\n",
    "    elif treebank_tag.startswith('N'):\n",
    "        return wordnet.NOUN\n",
    "    else:\n",
    "        return None\n",
    "\n",
    "def preprocess_title(title):\n",
    "    # Remove non-alphanumeric characters\n",
    "    title_alpha = re.sub(r'[^a-zA-Z0-9\\s]', '', title)\n",
    "\n",
    "    # Convert to lowercase\n",
    "    title_lower = title_alpha.lower()\n",
    "\n",
    "    # Break down into individual words\n",
    "    words = word_tokenize(title_lower)\n",
    "\n",
    "    # Remove stopwords\n",
    "    # words = [word for word in words if word not in stop_words]\n",
    "\n",
    "    # Part-of-Speech (POS) tagging\n",
    "    tagged_words = pos_tag(words)\n",
    "\n",
    "    # Remove words that are nouns (NN, NNS, NNP, NNPS)\n",
    "    non_noun_words = [word for word, pos in tagged_words if not pos.startswith('N')]\n",
    "\n",
    "    # Lemmatisation of words & removal of words that aren't adjectives/verbs/adverbs\n",
    "    lemmatised_words = [lemmatizer.lemmatize(word) for word in non_noun_words]\n",
    "\n",
    "    return lemmatised_words\n",
    "\n",
    "# Apply preprocessing to all titles\n",
    "papers_labelled_processed = [preprocess_title(title) for title in papers_labelled]\n",
    "papers_unlabelled_processed = [preprocess_title(title) for title in papers_unlabelled]"
   ]
  },
  {
   "cell_type": "code",
   "execution_count": 13,
   "metadata": {},
   "outputs": [
    {
     "data": {
      "text/plain": [
       "[['covid19', 'the', 'gendered', 'of', 'the'],\n",
       " ['controlling', 'of', 'a', 'pandemic'],\n",
       " ['and', 'of', 'low', 'back', 'and', 'promising']]"
      ]
     },
     "execution_count": 13,
     "metadata": {},
     "output_type": "execute_result"
    }
   ],
   "source": [
    "papers_labelled_processed[:3]"
   ]
  },
  {
   "cell_type": "code",
   "execution_count": 14,
   "metadata": {},
   "outputs": [
    {
     "data": {
      "text/plain": [
       "[['the',\n",
       "  'psychological',\n",
       "  'of',\n",
       "  'and',\n",
       "  'how',\n",
       "  'to',\n",
       "  'reduce',\n",
       "  'it',\n",
       "  'rapid',\n",
       "  'of',\n",
       "  'the'],\n",
       " ['global',\n",
       "  'regional',\n",
       "  'and',\n",
       "  'national',\n",
       "  'and',\n",
       "  'lived',\n",
       "  'with',\n",
       "  'for',\n",
       "  '354',\n",
       "  'and',\n",
       "  'for',\n",
       "  '195',\n",
       "  'and',\n",
       "  '19902017',\n",
       "  'a',\n",
       "  'systematic',\n",
       "  'for',\n",
       "  'the',\n",
       "  'global',\n",
       "  'of',\n",
       "  '2017'],\n",
       " ['a', 'novel', 'of', 'global']]"
      ]
     },
     "execution_count": 14,
     "metadata": {},
     "output_type": "execute_result"
    }
   ],
   "source": [
    "papers_unlabelled_processed[:3]"
   ]
  },
  {
   "cell_type": "markdown",
   "metadata": {},
   "source": [
    "### Bag of Words Representation"
   ]
  },
  {
   "cell_type": "code",
   "execution_count": 15,
   "metadata": {},
   "outputs": [],
   "source": [
    "# Create a CountVectorizer object\n",
    "vectorizer = CountVectorizer()\n",
    "\n",
    "# Fit the vectorizer on preprocessed titles and transform them into a BoW representation\n",
    "labelled_bow = vectorizer.fit_transform([\" \".join(title) for title in papers_labelled_processed])\n",
    "\n",
    "# Store the vocabulary used for creating BoW representations\n",
    "vocabulary = vectorizer.get_feature_names_out()"
   ]
  },
  {
   "cell_type": "code",
   "execution_count": 16,
   "metadata": {},
   "outputs": [
    {
     "data": {
      "text/plain": [
       "<100x288 sparse matrix of type '<class 'numpy.int64'>'\n",
       "\twith 623 stored elements in Compressed Sparse Row format>"
      ]
     },
     "execution_count": 16,
     "metadata": {},
     "output_type": "execute_result"
    }
   ],
   "source": [
    "labelled_bow"
   ]
  },
  {
   "cell_type": "code",
   "execution_count": 17,
   "metadata": {},
   "outputs": [],
   "source": [
    "# Create a CountVectorizer object\n",
    "vectorizer = CountVectorizer(vocabulary=vocabulary)\n",
    "\n",
    "# Fit the vectorizer on preprocessed titles and transform them into a BoW representation\n",
    "unlabelled_bow = vectorizer.fit_transform([\" \".join(title) for title in papers_unlabelled_processed])"
   ]
  },
  {
   "cell_type": "code",
   "execution_count": 18,
   "metadata": {},
   "outputs": [
    {
     "data": {
      "text/plain": [
       "<1242x288 sparse matrix of type '<class 'numpy.int64'>'\n",
       "\twith 5290 stored elements in Compressed Sparse Row format>"
      ]
     },
     "execution_count": 18,
     "metadata": {},
     "output_type": "execute_result"
    }
   ],
   "source": [
    "unlabelled_bow"
   ]
  },
  {
   "cell_type": "code",
   "execution_count": 19,
   "metadata": {},
   "outputs": [
    {
     "name": "stdout",
     "output_type": "stream",
     "text": [
      "Best hyperparameters: {'max_depth': 30, 'n_estimators': 100}\n",
      "Validation weighted F1: 0.55\n"
     ]
    }
   ],
   "source": [
    "# Split the dataset into a training set and a validation set\n",
    "X_train, X_val, y_train, y_val = train_test_split(labelled_bow, labels, test_size=0.2, random_state=42)\n",
    "\n",
    "# Define a range of hyperparameters for grid search\n",
    "param_grid = {\n",
    "    'n_estimators': [100, 200, 300],\n",
    "    'max_depth': [None, 1, 2, 3, 5, 8, 10, 20, 30]\n",
    "}\n",
    "\n",
    "# Initialize the Random Forest model\n",
    "rf_model = RandomForestClassifier(random_state=42)\n",
    "\n",
    "# Perform grid search with 5-fold cross-validation\n",
    "grid_search = GridSearchCV(rf_model, param_grid, cv=5, scoring='f1_weighted')\n",
    "\n",
    "# Fit the model to find the best hyperparameters\n",
    "grid_search.fit(X_train, y_train)\n",
    "best_params = grid_search.best_params_\n",
    "print(f\"Best hyperparameters: {best_params}\")\n",
    "best_rf_model = grid_search.best_estimator_\n",
    "\n",
    "# Make predictions on the validation set using the best model\n",
    "y_pred = best_rf_model.predict(X_val)\n",
    "\n",
    "# Calculate metrics\n",
    "f1 = f1_score(y_val, y_pred, average='weighted')\n",
    "print(f\"Validation weighted F1: {f1}\")\n",
    "\n",
    "# Predict labels for unlabelled data using the best model\n",
    "predicted_scores = best_rf_model.predict(unlabelled_bow)"
   ]
  },
  {
   "cell_type": "markdown",
   "metadata": {},
   "source": [
    "### Model Comparison"
   ]
  },
  {
   "cell_type": "code",
   "execution_count": 23,
   "metadata": {},
   "outputs": [
    {
     "name": "stdout",
     "output_type": "stream",
     "text": [
      "Random Forest - Cross-Validation F1 score: 0.49504151404151403\n"
     ]
    },
    {
     "name": "stderr",
     "output_type": "stream",
     "text": [
      "c:\\Users\\cathe\\AppData\\Local\\Programs\\Python\\Python310\\lib\\site-packages\\sklearn\\linear_model\\_logistic.py:1193: UserWarning: Setting penalty=None will ignore the C and l1_ratio parameters\n",
      "  warnings.warn(\n",
      "c:\\Users\\cathe\\AppData\\Local\\Programs\\Python\\Python310\\lib\\site-packages\\sklearn\\linear_model\\_logistic.py:1193: UserWarning: Setting penalty=None will ignore the C and l1_ratio parameters\n",
      "  warnings.warn(\n",
      "c:\\Users\\cathe\\AppData\\Local\\Programs\\Python\\Python310\\lib\\site-packages\\sklearn\\linear_model\\_logistic.py:1193: UserWarning: Setting penalty=None will ignore the C and l1_ratio parameters\n",
      "  warnings.warn(\n",
      "c:\\Users\\cathe\\AppData\\Local\\Programs\\Python\\Python310\\lib\\site-packages\\sklearn\\linear_model\\_logistic.py:1193: UserWarning: Setting penalty=None will ignore the C and l1_ratio parameters\n",
      "  warnings.warn(\n",
      "c:\\Users\\cathe\\AppData\\Local\\Programs\\Python\\Python310\\lib\\site-packages\\sklearn\\linear_model\\_logistic.py:1193: UserWarning: Setting penalty=None will ignore the C and l1_ratio parameters\n",
      "  warnings.warn(\n",
      "c:\\Users\\cathe\\AppData\\Local\\Programs\\Python\\Python310\\lib\\site-packages\\sklearn\\linear_model\\_logistic.py:1193: UserWarning: Setting penalty=None will ignore the C and l1_ratio parameters\n",
      "  warnings.warn(\n",
      "c:\\Users\\cathe\\AppData\\Local\\Programs\\Python\\Python310\\lib\\site-packages\\sklearn\\linear_model\\_logistic.py:1193: UserWarning: Setting penalty=None will ignore the C and l1_ratio parameters\n",
      "  warnings.warn(\n",
      "c:\\Users\\cathe\\AppData\\Local\\Programs\\Python\\Python310\\lib\\site-packages\\sklearn\\linear_model\\_logistic.py:1193: UserWarning: Setting penalty=None will ignore the C and l1_ratio parameters\n",
      "  warnings.warn(\n",
      "c:\\Users\\cathe\\AppData\\Local\\Programs\\Python\\Python310\\lib\\site-packages\\sklearn\\linear_model\\_logistic.py:1193: UserWarning: Setting penalty=None will ignore the C and l1_ratio parameters\n",
      "  warnings.warn(\n",
      "c:\\Users\\cathe\\AppData\\Local\\Programs\\Python\\Python310\\lib\\site-packages\\sklearn\\linear_model\\_logistic.py:1193: UserWarning: Setting penalty=None will ignore the C and l1_ratio parameters\n",
      "  warnings.warn(\n"
     ]
    },
    {
     "name": "stdout",
     "output_type": "stream",
     "text": [
      "Logistic Regression - Cross-Validation F1 score: 0.43289197936566365\n",
      "SVM - Cross-Validation F1 score: 0.46521109523431503\n",
      "K-Nearest Neighbors - Cross-Validation F1 score: 0.34913793396146336\n",
      "Decision Tree - Cross-Validation F1 score: 0.49979986027044854\n",
      "Multinomial Naive Bayes - Cross-Validation F1 score: 0.40360420037478867\n",
      "Gradient Boosting - Cross-Validation F1 score: 0.49798888583933687\n",
      "Neural Network - Cross-Validation F1 score: 0.34376201249730665\n",
      "The best model is: Decision Tree\n"
     ]
    }
   ],
   "source": [
    "# Define the range of hyperparameters for each model\n",
    "param_grid_rf = {\n",
    "    'n_estimators': [100, 200, 300],\n",
    "    'max_depth': [None, 5, 10, 20, 30]\n",
    "}\n",
    "\n",
    "param_grid_lr = {\n",
    "    'C': [0.1, 1, 10],\n",
    "    'penalty': ['l2', None]\n",
    "}\n",
    "\n",
    "param_grid_svm = {\n",
    "    'C': [0.1, 1, 10],\n",
    "    'kernel': ['linear', 'rbf']\n",
    "}\n",
    "\n",
    "param_grid_knn = {\n",
    "    'n_neighbors': [3, 5, 7, 9]\n",
    "}\n",
    "\n",
    "param_grid_dt = {\n",
    "    'max_depth': [None, 1, 2, 3, 5, 8, 10, 20, 30]\n",
    "}\n",
    "\n",
    "param_grid_nb = {\n",
    "    'alpha': [0.1, 0.5, 1.0]\n",
    "}\n",
    "\n",
    "param_grid_gb = {\n",
    "    'n_estimators': [50, 100, 200],\n",
    "    'max_depth': [3, 4, 5]\n",
    "}\n",
    "\n",
    "param_grid_nn = {\n",
    "    'hidden_layer_sizes': [(50, 50), (100, 100), (50, 100, 50)],\n",
    "    'alpha': [0.0001, 0.0005, 0.001]\n",
    "}\n",
    "\n",
    "# Initialize models\n",
    "models = {\n",
    "    'Random Forest': (RandomForestClassifier(random_state=42), param_grid_rf),\n",
    "    'Logistic Regression': (LogisticRegression(random_state=42), param_grid_lr),\n",
    "    'SVM': (SVC(random_state=42), param_grid_svm),\n",
    "    'K-Nearest Neighbors': (KNeighborsClassifier(), param_grid_knn),\n",
    "    'Decision Tree': (DecisionTreeClassifier(random_state=42), param_grid_dt),\n",
    "    'Multinomial Naive Bayes': (MultinomialNB(), param_grid_nb),\n",
    "    'Gradient Boosting': (GradientBoostingClassifier(random_state=42), param_grid_gb),\n",
    "    'Neural Network': (MLPClassifier(random_state=42, max_iter=1000), param_grid_nn)\n",
    "}\n",
    "\n",
    "best_models = {}\n",
    "\n",
    "for model_name, (model, param_grid) in models.items():\n",
    "    # Perform grid search with 5-fold cross-validation using F1 score as the scoring metric\n",
    "    grid_search = GridSearchCV(model, param_grid, cv=5, scoring='f1_weighted')\n",
    "\n",
    "    # Fit the model to find the best hyperparameters\n",
    "    grid_search.fit(labelled_bow, labels)\n",
    "    best_params = grid_search.best_params_\n",
    "    best_model = grid_search.best_estimator_\n",
    "    best_models[model_name] = best_model\n",
    "\n",
    "    # Calculate F1 score using cross-validation\n",
    "    cv_scores = cross_val_score(best_model, labelled_bow, labels, cv=5, scoring='f1_weighted')\n",
    "    print(f\"{model_name} - Cross-Validation F1 score: {np.mean(cv_scores)}\")\n",
    "\n",
    "# Select the best model based on the mean cross-validation F1 score\n",
    "best_model_name = max(best_models, key=lambda x: np.mean(cross_val_score(best_models[x], labelled_bow, labels, cv=5, scoring='f1_weighted')))\n",
    "best_model = best_models[best_model_name]\n",
    "\n",
    "print(f\"The best model is: {best_model_name}\")\n"
   ]
  },
  {
   "cell_type": "markdown",
   "metadata": {},
   "source": [
    "### Visualising results"
   ]
  },
  {
   "cell_type": "code",
   "execution_count": 34,
   "metadata": {},
   "outputs": [
    {
     "data": {
      "image/png": "[encoded data removed]",
      "text/plain": [
       "<Figure size 800x600 with 2 Axes>"
      ]
     },
     "metadata": {},
     "output_type": "display_data"
    }
   ],
   "source": [
    "# Fit the best model to the entire training dataset\n",
    "best_model.fit(labelled_bow, labels)\n",
    "\n",
    "# Make predictions on the entire dataset\n",
    "y_pred = best_model.predict(labelled_bow)\n",
    "\n",
    "# Calculate the confusion matrix\n",
    "conf_matrix = confusion_matrix(labels, y_pred)\n",
    "\n",
    "# Define class names\n",
    "class_names = [1, 2, 3, 4, 5]\n",
    "\n",
    "# Plot the confusion matrix using a heatmap\n",
    "plt.figure(figsize=(8, 6))\n",
    "sns.heatmap(conf_matrix, annot=True, fmt='d', cmap='Blues', xticklabels=class_names, yticklabels=class_names)\n",
    "plt.xlabel('Predicted')\n",
    "plt.ylabel('True')\n",
    "plt.title('Confusion Matrix')\n",
    "plt.show()"
   ]
  },
  {
   "cell_type": "code",
   "execution_count": 36,
   "metadata": {},
   "outputs": [
    {
     "name": "stdout",
     "output_type": "stream",
     "text": [
      "Accuracy: 0.72\n",
      "F1 Score (Micro): 0.72\n",
      "F1 Score (Weighted): 0.7248498813014942\n",
      "Precision (Micro): 0.72\n",
      "Precision (Weighted): 0.779741532976827\n",
      "Recall (Micro): 0.72\n",
      "Recall (Weighted): 0.72\n"
     ]
    }
   ],
   "source": [
    "# Calculate accuracy\n",
    "accuracy = accuracy_score(labels, y_pred)\n",
    "\n",
    "# Calculate F1 score (micro, weighted, or other averaging methods)\n",
    "f1_micro = f1_score(labels, y_pred, average='micro')\n",
    "f1_weighted = f1_score(labels, y_pred, average='weighted')\n",
    "\n",
    "# Calculate precision (micro, weighted, or other averaging methods)\n",
    "precision_micro = precision_score(labels, y_pred, average='micro')\n",
    "precision_weighted = precision_score(labels, y_pred, average='weighted')\n",
    "\n",
    "# Calculate recall (micro, weighted, or other averaging methods)\n",
    "recall_micro = recall_score(labels, y_pred, average='micro')\n",
    "recall_weighted = recall_score(labels, y_pred, average='weighted')\n",
    "\n",
    "# Print the calculated metrics\n",
    "print(f\"Accuracy: {accuracy}\")\n",
    "print(f\"F1 Score (Micro): {f1_micro}\")\n",
    "print(f\"F1 Score (Weighted): {f1_weighted}\")\n",
    "print(f\"Precision (Micro): {precision_micro}\")\n",
    "print(f\"Precision (Weighted): {precision_weighted}\")\n",
    "print(f\"Recall (Micro): {recall_micro}\")\n",
    "print(f\"Recall (Weighted): {recall_weighted}\")\n"
   ]
  },
  {
   "cell_type": "markdown",
   "metadata": {},
   "source": [
    "### Put predictions back into spreadsheet"
   ]
  },
  {
   "cell_type": "code",
   "execution_count": 21,
   "metadata": {},
   "outputs": [],
   "source": [
    "# Predict labels for unlabelled data using the best model\n",
    "predicted_scores = best_model.predict(unlabelled_bow)"
   ]
  },
  {
   "cell_type": "code",
   "execution_count": 22,
   "metadata": {},
   "outputs": [
    {
     "data": {
      "text/plain": [
       "(['The psychological impact of quarantine and how to reduce it: rapid review of the evidence',\n",
       "  'Global, regional, and national incidence, prevalence, and years lived with disability for 354 diseases and injuries for 195 countries and territories, 1990–2017: a systematic analysis for the Global Burden of Disease Study 2017',\n",
       "  'A novel coronavirus outbreak of global health concern'],\n",
       " array([3, 2, 1]))"
      ]
     },
     "execution_count": 22,
     "metadata": {},
     "output_type": "execute_result"
    }
   ],
   "source": [
    "papers_unlabelled[:3], predicted_scores[:3]"
   ]
  },
  {
   "cell_type": "code",
   "execution_count": null,
   "metadata": {},
   "outputs": [],
   "source": []
  }
 ],
 "metadata": {
  "kernelspec": {
   "display_name": "Python 3",
   "language": "python",
   "name": "python3"
  },
  "language_info": {
   "codemirror_mode": {
    "name": "ipython",
    "version": 3
   },
   "file_extension": ".py",
   "mimetype": "text/x-python",
   "name": "python",
   "nbconvert_exporter": "python",
   "pygments_lexer": "ipython3",
   "version": "3.10.2"
  }
 },
 "nbformat": 4,
 "nbformat_minor": 2
}
