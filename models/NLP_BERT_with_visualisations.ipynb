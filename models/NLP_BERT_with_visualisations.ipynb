{
 "cells": [
  {
   "cell_type": "code",
   "execution_count": 2,
   "metadata": {},
   "outputs": [],
   "source": [
    "import torch\n",
    "import torch.nn as nn\n",
    "from torch.utils.data import DataLoader\n",
    "import transformers\n",
    "from transformers import (\n",
    "    AdamW,\n",
    "    AutoConfig,\n",
    "    AutoModelForSequenceClassification,\n",
    "    AutoTokenizer,\n",
    "    get_linear_schedule_with_warmup,\n",
    ")\n",
    "import numpy as np\n",
    "import pandas as pd\n",
    "import matplotlib.pyplot as plt\n",
    "from sklearn.model_selection import train_test_split\n",
    "from sklearn.metrics import classification_report\n",
    "from transformers import AutoModel, BertTokenizerFast\n",
    "from transformers import AutoTokenizer, DataCollatorWithPadding\n",
    "from sklearn.utils.class_weight import compute_class_weight\n",
    "from torch.utils.data import TensorDataset, DataLoader, RandomSampler, SequentialSampler\n",
    "import pytorch_lightning as pl\n",
    "import os.path\n",
    "from torch.optim.lr_scheduler import ReduceLROnPlateau\n",
    "from transformers import BertTokenizer, BertModel\n",
    "import gspread\n",
    "from oauth2client.service_account import ServiceAccountCredentials\n",
    "import nltk\n",
    "from nltk.corpus import stopwords\n",
    "from nltk.stem import WordNetLemmatizer\n",
    "from nltk import pos_tag, word_tokenize\n",
    "import re\n",
    "from sklearn.feature_extraction.text import CountVectorizer\n",
    "from sklearn.model_selection import GridSearchCV, cross_val_score, train_test_split\n",
    "from sklearn.ensemble import RandomForestClassifier\n",
    "from sklearn.metrics import accuracy_score, f1_score\n",
    "from sklearn.model_selection import train_test_split\n",
    "from transformers import AutoTokenizer, DataCollatorWithPadding\n",
    "from sklearn.utils.class_weight import compute_class_weight\n",
    "from torch.utils.data import TensorDataset, DataLoader, RandomSampler, SequentialSampler\n",
    "import wandb\n",
    "import pytorch_lightning as pl\n",
    "from pytorch_lightning.loggers import WandbLogger\n",
    "from pytorch_lightning.callbacks import TQDMProgressBar, ModelCheckpoint, EarlyStopping"
   ]
  },
  {
   "cell_type": "markdown",
   "metadata": {},
   "source": [
    "## **Data Preparation**"
   ]
  },
  {
   "cell_type": "code",
   "execution_count": 4,
   "metadata": {},
   "outputs": [],
   "source": [
    "# Load the labeled data\n",
    "labelled_data = pd.read_csv('/Users/vladandreichuk/Desktop/git_reps/practical-data-science-tutorial/data/Final-Dataset - finaldataset.csv')"
   ]
  },
  {
   "cell_type": "code",
   "execution_count": 60,
   "metadata": {},
   "outputs": [],
   "source": [
    "# Load the test data\n",
    "test_data = pd.read_csv('/Users/vladandreichuk/Desktop/git_reps/practical-data-science-tutorial/data/Draft-dataset - draftdataset.csv')"
   ]
  },
  {
   "cell_type": "code",
   "execution_count": 6,
   "metadata": {},
   "outputs": [],
   "source": [
    "# Leave only columns of interest\n",
    "labelled_data = labelled_data[['study_title','Confidence']]"
   ]
  },
  {
   "cell_type": "code",
   "execution_count": 61,
   "metadata": {},
   "outputs": [],
   "source": [
    "# Leave only columns of interest\n",
    "test_data = test_data[['study_id','study_title']]"
   ]
  },
  {
   "cell_type": "code",
   "execution_count": 62,
   "metadata": {},
   "outputs": [
    {
     "data": {
      "text/html": [
       "<div>\n",
       "<style scoped>\n",
       "    .dataframe tbody tr th:only-of-type {\n",
       "        vertical-align: middle;\n",
       "    }\n",
       "\n",
       "    .dataframe tbody tr th {\n",
       "        vertical-align: top;\n",
       "    }\n",
       "\n",
       "    .dataframe thead th {\n",
       "        text-align: right;\n",
       "    }\n",
       "</style>\n",
       "<table border=\"1\" class=\"dataframe\">\n",
       "  <thead>\n",
       "    <tr style=\"text-align: right;\">\n",
       "      <th></th>\n",
       "      <th>study_id</th>\n",
       "      <th>study_title</th>\n",
       "    </tr>\n",
       "  </thead>\n",
       "  <tbody>\n",
       "    <tr>\n",
       "      <th>0</th>\n",
       "      <td>hm0001</td>\n",
       "      <td>The psychological impact of quarantine and how...</td>\n",
       "    </tr>\n",
       "    <tr>\n",
       "      <th>1</th>\n",
       "      <td>hm0002</td>\n",
       "      <td>Global, regional, and national incidence, prev...</td>\n",
       "    </tr>\n",
       "    <tr>\n",
       "      <th>2</th>\n",
       "      <td>hm0003</td>\n",
       "      <td>A novel coronavirus outbreak of global health ...</td>\n",
       "    </tr>\n",
       "    <tr>\n",
       "      <th>3</th>\n",
       "      <td>hm0004</td>\n",
       "      <td>COVID-19 and Italy: what next?</td>\n",
       "    </tr>\n",
       "    <tr>\n",
       "      <th>4</th>\n",
       "      <td>hm0005</td>\n",
       "      <td>Structural racism and health inequities in the...</td>\n",
       "    </tr>\n",
       "    <tr>\n",
       "      <th>...</th>\n",
       "      <td>...</td>\n",
       "      <td>...</td>\n",
       "    </tr>\n",
       "    <tr>\n",
       "      <th>1237</th>\n",
       "      <td>bem1238</td>\n",
       "      <td>Informing the Market: The Effect of Modern Inf...</td>\n",
       "    </tr>\n",
       "    <tr>\n",
       "      <th>1238</th>\n",
       "      <td>bem1239</td>\n",
       "      <td>Winning by Losing: Evidence on the Long-run Ef...</td>\n",
       "    </tr>\n",
       "    <tr>\n",
       "      <th>1239</th>\n",
       "      <td>bem1240</td>\n",
       "      <td>Employment and Wage Insurance within Firms: Wo...</td>\n",
       "    </tr>\n",
       "    <tr>\n",
       "      <th>1240</th>\n",
       "      <td>bem1241</td>\n",
       "      <td>Why Does Fast Loan Growth Predict Poor Perform...</td>\n",
       "    </tr>\n",
       "    <tr>\n",
       "      <th>1241</th>\n",
       "      <td>bem1242</td>\n",
       "      <td>Quantifying Sentiment with News Media across L...</td>\n",
       "    </tr>\n",
       "  </tbody>\n",
       "</table>\n",
       "<p>1242 rows × 2 columns</p>\n",
       "</div>"
      ],
      "text/plain": [
       "     study_id                                        study_title\n",
       "0      hm0001  The psychological impact of quarantine and how...\n",
       "1      hm0002  Global, regional, and national incidence, prev...\n",
       "2      hm0003  A novel coronavirus outbreak of global health ...\n",
       "3      hm0004                     COVID-19 and Italy: what next?\n",
       "4      hm0005  Structural racism and health inequities in the...\n",
       "...       ...                                                ...\n",
       "1237  bem1238  Informing the Market: The Effect of Modern Inf...\n",
       "1238  bem1239  Winning by Losing: Evidence on the Long-run Ef...\n",
       "1239  bem1240  Employment and Wage Insurance within Firms: Wo...\n",
       "1240  bem1241  Why Does Fast Loan Growth Predict Poor Perform...\n",
       "1241  bem1242  Quantifying Sentiment with News Media across L...\n",
       "\n",
       "[1242 rows x 2 columns]"
      ]
     },
     "execution_count": 62,
     "metadata": {},
     "output_type": "execute_result"
    }
   ],
   "source": [
    "test_data"
   ]
  },
  {
   "cell_type": "code",
   "execution_count": 8,
   "metadata": {},
   "outputs": [],
   "source": [
    "# Round the labels to the nearest integer\n",
    "labelled_data['Confidence'] = labelled_data['Confidence'].round().astype(int)"
   ]
  },
  {
   "cell_type": "code",
   "execution_count": 9,
   "metadata": {},
   "outputs": [],
   "source": [
    "# Rename the columns\n",
    "labelled_data.columns = ['body', 'label']"
   ]
  },
  {
   "cell_type": "code",
   "execution_count": 63,
   "metadata": {},
   "outputs": [],
   "source": [
    "# Rename the columns\n",
    "test_data.columns = ['study_id','body']"
   ]
  },
  {
   "cell_type": "code",
   "execution_count": 70,
   "metadata": {},
   "outputs": [],
   "source": [
    "# Add a 'label' column of 0s, necessary for smooth implementation of the code below\n",
    "test_data['label'] = 0"
   ]
  },
  {
   "cell_type": "code",
   "execution_count": 76,
   "metadata": {},
   "outputs": [
    {
     "data": {
      "text/html": [
       "<div>\n",
       "<style scoped>\n",
       "    .dataframe tbody tr th:only-of-type {\n",
       "        vertical-align: middle;\n",
       "    }\n",
       "\n",
       "    .dataframe tbody tr th {\n",
       "        vertical-align: top;\n",
       "    }\n",
       "\n",
       "    .dataframe thead th {\n",
       "        text-align: right;\n",
       "    }\n",
       "</style>\n",
       "<table border=\"1\" class=\"dataframe\">\n",
       "  <thead>\n",
       "    <tr style=\"text-align: right;\">\n",
       "      <th></th>\n",
       "      <th>study_id</th>\n",
       "      <th>body</th>\n",
       "      <th>label</th>\n",
       "    </tr>\n",
       "  </thead>\n",
       "  <tbody>\n",
       "    <tr>\n",
       "      <th>0</th>\n",
       "      <td>hm0001</td>\n",
       "      <td>The psychological impact of quarantine and how...</td>\n",
       "      <td>0</td>\n",
       "    </tr>\n",
       "    <tr>\n",
       "      <th>1</th>\n",
       "      <td>hm0002</td>\n",
       "      <td>Global, regional, and national incidence, prev...</td>\n",
       "      <td>0</td>\n",
       "    </tr>\n",
       "    <tr>\n",
       "      <th>2</th>\n",
       "      <td>hm0003</td>\n",
       "      <td>A novel coronavirus outbreak of global health ...</td>\n",
       "      <td>0</td>\n",
       "    </tr>\n",
       "    <tr>\n",
       "      <th>3</th>\n",
       "      <td>hm0004</td>\n",
       "      <td>COVID-19 and Italy: what next?</td>\n",
       "      <td>0</td>\n",
       "    </tr>\n",
       "    <tr>\n",
       "      <th>4</th>\n",
       "      <td>hm0005</td>\n",
       "      <td>Structural racism and health inequities in the...</td>\n",
       "      <td>0</td>\n",
       "    </tr>\n",
       "    <tr>\n",
       "      <th>...</th>\n",
       "      <td>...</td>\n",
       "      <td>...</td>\n",
       "      <td>...</td>\n",
       "    </tr>\n",
       "    <tr>\n",
       "      <th>1237</th>\n",
       "      <td>bem1238</td>\n",
       "      <td>Informing the Market: The Effect of Modern Inf...</td>\n",
       "      <td>0</td>\n",
       "    </tr>\n",
       "    <tr>\n",
       "      <th>1238</th>\n",
       "      <td>bem1239</td>\n",
       "      <td>Winning by Losing: Evidence on the Long-run Ef...</td>\n",
       "      <td>0</td>\n",
       "    </tr>\n",
       "    <tr>\n",
       "      <th>1239</th>\n",
       "      <td>bem1240</td>\n",
       "      <td>Employment and Wage Insurance within Firms: Wo...</td>\n",
       "      <td>0</td>\n",
       "    </tr>\n",
       "    <tr>\n",
       "      <th>1240</th>\n",
       "      <td>bem1241</td>\n",
       "      <td>Why Does Fast Loan Growth Predict Poor Perform...</td>\n",
       "      <td>0</td>\n",
       "    </tr>\n",
       "    <tr>\n",
       "      <th>1241</th>\n",
       "      <td>bem1242</td>\n",
       "      <td>Quantifying Sentiment with News Media across L...</td>\n",
       "      <td>0</td>\n",
       "    </tr>\n",
       "  </tbody>\n",
       "</table>\n",
       "<p>1242 rows × 3 columns</p>\n",
       "</div>"
      ],
      "text/plain": [
       "     study_id                                               body  label\n",
       "0      hm0001  The psychological impact of quarantine and how...      0\n",
       "1      hm0002  Global, regional, and national incidence, prev...      0\n",
       "2      hm0003  A novel coronavirus outbreak of global health ...      0\n",
       "3      hm0004                     COVID-19 and Italy: what next?      0\n",
       "4      hm0005  Structural racism and health inequities in the...      0\n",
       "...       ...                                                ...    ...\n",
       "1237  bem1238  Informing the Market: The Effect of Modern Inf...      0\n",
       "1238  bem1239  Winning by Losing: Evidence on the Long-run Ef...      0\n",
       "1239  bem1240  Employment and Wage Insurance within Firms: Wo...      0\n",
       "1240  bem1241  Why Does Fast Loan Growth Predict Poor Perform...      0\n",
       "1241  bem1242  Quantifying Sentiment with News Media across L...      0\n",
       "\n",
       "[1242 rows x 3 columns]"
      ]
     },
     "execution_count": 76,
     "metadata": {},
     "output_type": "execute_result"
    }
   ],
   "source": [
    "test_data "
   ]
  },
  {
   "cell_type": "code",
   "execution_count": 77,
   "metadata": {},
   "outputs": [
    {
     "data": {
      "text/html": [
       "<div>\n",
       "<style scoped>\n",
       "    .dataframe tbody tr th:only-of-type {\n",
       "        vertical-align: middle;\n",
       "    }\n",
       "\n",
       "    .dataframe tbody tr th {\n",
       "        vertical-align: top;\n",
       "    }\n",
       "\n",
       "    .dataframe thead th {\n",
       "        text-align: right;\n",
       "    }\n",
       "</style>\n",
       "<table border=\"1\" class=\"dataframe\">\n",
       "  <thead>\n",
       "    <tr style=\"text-align: right;\">\n",
       "      <th></th>\n",
       "      <th>body</th>\n",
       "      <th>label</th>\n",
       "    </tr>\n",
       "  </thead>\n",
       "  <tbody>\n",
       "    <tr>\n",
       "      <th>0</th>\n",
       "      <td>COVID-19: the gendered impacts of the outbreak</td>\n",
       "      <td>2</td>\n",
       "    </tr>\n",
       "    <tr>\n",
       "      <th>1</th>\n",
       "      <td>COVID-19: towards controlling of a pandemic</td>\n",
       "      <td>0</td>\n",
       "    </tr>\n",
       "    <tr>\n",
       "      <th>2</th>\n",
       "      <td>Prevention and treatment of low back pain: evi...</td>\n",
       "      <td>3</td>\n",
       "    </tr>\n",
       "    <tr>\n",
       "      <th>3</th>\n",
       "      <td>Effect of early tranexamic acid administration...</td>\n",
       "      <td>3</td>\n",
       "    </tr>\n",
       "    <tr>\n",
       "      <th>4</th>\n",
       "      <td>Offline: COVID-19 is not a pandemic</td>\n",
       "      <td>3</td>\n",
       "    </tr>\n",
       "    <tr>\n",
       "      <th>...</th>\n",
       "      <td>...</td>\n",
       "      <td>...</td>\n",
       "    </tr>\n",
       "    <tr>\n",
       "      <th>95</th>\n",
       "      <td>The role and dimensions of authenticity in her...</td>\n",
       "      <td>1</td>\n",
       "    </tr>\n",
       "    <tr>\n",
       "      <th>96</th>\n",
       "      <td>Impact of crisis events on Chinese outbound to...</td>\n",
       "      <td>3</td>\n",
       "    </tr>\n",
       "    <tr>\n",
       "      <th>97</th>\n",
       "      <td>Effects of the Booking.com rating system: Brin...</td>\n",
       "      <td>3</td>\n",
       "    </tr>\n",
       "    <tr>\n",
       "      <th>98</th>\n",
       "      <td>Spillover effects of economic globalization on...</td>\n",
       "      <td>3</td>\n",
       "    </tr>\n",
       "    <tr>\n",
       "      <th>99</th>\n",
       "      <td>Effects of financial development on energy con...</td>\n",
       "      <td>3</td>\n",
       "    </tr>\n",
       "  </tbody>\n",
       "</table>\n",
       "<p>100 rows × 2 columns</p>\n",
       "</div>"
      ],
      "text/plain": [
       "                                                 body  label\n",
       "0      COVID-19: the gendered impacts of the outbreak      2\n",
       "1         COVID-19: towards controlling of a pandemic      0\n",
       "2   Prevention and treatment of low back pain: evi...      3\n",
       "3   Effect of early tranexamic acid administration...      3\n",
       "4                 Offline: COVID-19 is not a pandemic      3\n",
       "..                                                ...    ...\n",
       "95  The role and dimensions of authenticity in her...      1\n",
       "96  Impact of crisis events on Chinese outbound to...      3\n",
       "97  Effects of the Booking.com rating system: Brin...      3\n",
       "98  Spillover effects of economic globalization on...      3\n",
       "99  Effects of financial development on energy con...      3\n",
       "\n",
       "[100 rows x 2 columns]"
      ]
     },
     "execution_count": 77,
     "metadata": {},
     "output_type": "execute_result"
    }
   ],
   "source": [
    "labelled_data"
   ]
  },
  {
   "cell_type": "code",
   "execution_count": 18,
   "metadata": {},
   "outputs": [],
   "source": [
    "# Subtract 1 from labels so that they start from 0\n",
    "labelled_data['label'] = labelled_data['label'] - 1"
   ]
  },
  {
   "cell_type": "code",
   "execution_count": 19,
   "metadata": {},
   "outputs": [
    {
     "data": {
      "text/plain": [
       "label\n",
       "1    35\n",
       "3    30\n",
       "2    21\n",
       "0    12\n",
       "4     2\n",
       "Name: count, dtype: int64"
      ]
     },
     "execution_count": 19,
     "metadata": {},
     "output_type": "execute_result"
    }
   ],
   "source": [
    "labelled_data['label'].value_counts()"
   ]
  },
  {
   "cell_type": "code",
   "execution_count": 20,
   "metadata": {},
   "outputs": [],
   "source": [
    "# Split the data into training and validation sets\n",
    "train_data, val_data = train_test_split(labelled_data, test_size=0.2, random_state=42)"
   ]
  },
  {
   "cell_type": "markdown",
   "metadata": {},
   "source": [
    "## **Model**"
   ]
  },
  {
   "cell_type": "markdown",
   "metadata": {},
   "source": [
    "### **BERT Model**"
   ]
  },
  {
   "cell_type": "code",
   "execution_count": 83,
   "metadata": {},
   "outputs": [],
   "source": [
    "epoch = 0\n",
    "\n",
    "\n",
    "class BERT_unfreeze(pl.LightningModule):\n",
    "    def __init__(self, weights, max_length, learning_rate=1e-5):\n",
    "        \"\"\"\n",
    "        Lightning Module for fine-tuning BERT with unfreezing layers.\n",
    "\n",
    "        Args:\n",
    "            weights (torch.Tensor): Weights for NLLLoss.\n",
    "            max_length (int): Maximum length of input sequences.\n",
    "            learning_rate (float): Learning rate for optimizer.\n",
    "        \"\"\"\n",
    "        super().__init__()\n",
    "        self.save_hyperparameters()\n",
    "        self.loss = nn.NLLLoss(weight=weights)\n",
    "        self.max_length = max_length\n",
    "        self.learning_rate = learning_rate\n",
    "        self.training_step_loss = []\n",
    "        self.validation_step_loss = []\n",
    "        self.test_step_loss = []\n",
    "        self.test_step_acc = []\n",
    "        self.training_step_acc = []\n",
    "        self.validation_step_acc = []\n",
    "\n",
    "        self.bert = BertModel.from_pretrained(\"bert-base-uncased\")\n",
    "\n",
    "        # Freeze the pretrained layers except 1-3\n",
    "        for layer in self.bert.encoder.layer[:9]:\n",
    "            for param in layer.parameters():\n",
    "                param.requires_grad = False\n",
    "\n",
    "        # Dropout layer\n",
    "        self.dropout = nn.Dropout(0.2)\n",
    "\n",
    "        # ReLU activation function\n",
    "        self.relu = nn.ReLU()\n",
    "\n",
    "        # Dense layer 1\n",
    "        self.fc1 = nn.Linear(768, 512)\n",
    "\n",
    "        # Dense layer 2 (Output layer)\n",
    "        self.fc2 = nn.Linear(512, 5)\n",
    "\n",
    "        # Softmax activation function\n",
    "        self.softmax = nn.LogSoftmax(dim=1)\n",
    "\n",
    "    def forward(self, sent_id, mask):\n",
    "        \"\"\"\n",
    "        Forward pass of the model.\n",
    "\n",
    "        Args:\n",
    "            sent_id (torch.Tensor): Input sentence IDs.\n",
    "            mask (torch.Tensor): Attention mask.\n",
    "\n",
    "        Returns:\n",
    "            torch.Tensor: Model predictions.\n",
    "        \"\"\"\n",
    "        _, cls_hs = self.bert(sent_id, attention_mask=mask, return_dict=False)\n",
    "\n",
    "        x = self.fc1(cls_hs)\n",
    "        x = self.relu(x)\n",
    "        x = self.dropout(x)\n",
    "        x = self.fc2(x)\n",
    "        x = self.softmax(x)\n",
    "\n",
    "        return x\n",
    "\n",
    "    def configure_optimizers(self):\n",
    "        \"\"\"\n",
    "        Configure optimizer and learning rate scheduler.\n",
    "\n",
    "        Returns:\n",
    "            dict: Dictionary containing optimizer and lr_scheduler.\n",
    "        \"\"\"\n",
    "        optimizer = AdamW(self.parameters(), lr=self.learning_rate)\n",
    "        scheduler = {\n",
    "            \"scheduler\": ReduceLROnPlateau(\n",
    "                optimizer, mode=\"min\", factor=0.5, patience=3, verbose=1\n",
    "            ),\n",
    "            \"monitor\": \"val_loss\",\n",
    "        }\n",
    "        return {\"optimizer\": optimizer, \"lr_scheduler\": scheduler}\n",
    "\n",
    "    def export_metrics(self, acc, loss, step):\n",
    "        \"\"\"\n",
    "        Export metrics to a CSV file.\n",
    "\n",
    "        Args:\n",
    "            acc (float): Accuracy.\n",
    "            loss (torch.Tensor): Loss value.\n",
    "            step (str): Training, validation, or test step.\n",
    "        \"\"\"\n",
    "        metrics_filename = f\"/Users/vladandreichuk/Desktop/git_reps/practical-data-science-tutorial/models/BERT_metrics/max_l{self.max_length}_lr{self.learning_rate}_{step}_metrics.csv\"\n",
    "\n",
    "        metrics_df = pd.DataFrame(\n",
    "            [[epoch, acc, float(loss)]], columns=[\"epoch\", \"acc\", \"loss\"]\n",
    "        )\n",
    "\n",
    "        if os.path.isfile(metrics_filename):\n",
    "            metrics_in_data = pd.read_csv(metrics_filename)\n",
    "            metrics_out_data = pd.concat([metrics_in_data, metrics_df])\n",
    "            metrics_out_data.to_csv(metrics_filename, index=False)\n",
    "        else:\n",
    "            metrics_df.to_csv(metrics_filename, index=False)\n",
    "\n",
    "    def training_step(self, train_batch, batch_idx):\n",
    "        \"\"\"\n",
    "        Training step for the model.\n",
    "\n",
    "        Args:\n",
    "            train_batch (tuple): Batch of training data.\n",
    "            batch_idx (int): Batch index.\n",
    "\n",
    "        Returns:\n",
    "            dict: Dictionary containing training metrics.\n",
    "        \"\"\"\n",
    "        sent_id, mask, labels = train_batch\n",
    "        preds = self(sent_id, mask)\n",
    "        loss = self.loss(preds, labels)\n",
    "        acc = torch.sum(labels == torch.argmax(preds, dim=1)).item() / len(labels)\n",
    "        metrics = {\"train_acc\": acc, \"loss\": loss}\n",
    "        self.training_step_loss.append(loss)\n",
    "        self.training_step_acc.append(acc)\n",
    "        return metrics\n",
    "\n",
    "    def on_train_epoch_end(self):\n",
    "        \"\"\"\n",
    "        Called at the end of each training epoch.\n",
    "        \"\"\"\n",
    "        step = \"train\"\n",
    "        # Compute loss and accuracy and export it\n",
    "        loss = torch.stack(self.training_step_loss).mean()\n",
    "        acc = sum(self.training_step_acc) / len(self.training_step_acc)\n",
    "        self.export_metrics(acc, loss, step)\n",
    "        self.training_step_loss.clear()\n",
    "        self.training_step_acc.clear()\n",
    "\n",
    "    def validation_step(self, val_batch, batch_idx):\n",
    "        \"\"\"\n",
    "        Validation step for the model.\n",
    "\n",
    "        Args:\n",
    "            val_batch (tuple): Batch of validation data.\n",
    "            batch_idx (int): Batch index.\n",
    "\n",
    "        Returns:\n",
    "            dict: Dictionary containing validation metrics.\n",
    "        \"\"\"\n",
    "        sent_id, mask, labels = val_batch\n",
    "        preds = self(sent_id, mask)\n",
    "        loss, acc = self._shared_eval_step(val_batch, batch_idx)\n",
    "        metrics = {\"val_acc\": acc, \"val_loss\": loss}\n",
    "        self.log_dict(metrics)\n",
    "        self.validation_step_loss.append(loss)\n",
    "        self.validation_step_acc.append(acc)\n",
    "        return metrics\n",
    "\n",
    "    def on_validation_epoch_end(self):\n",
    "        \"\"\"\n",
    "        Called at the end of each validation epoch.\n",
    "        \"\"\"\n",
    "        global epoch\n",
    "        epoch = epoch + 1\n",
    "        step = \"val\"\n",
    "        # Compute loss and accuracy and export it\n",
    "        loss = torch.stack(self.validation_step_loss).mean()\n",
    "        acc = sum(self.validation_step_acc) / len(self.validation_step_acc)\n",
    "        self.export_metrics(acc, loss, step)\n",
    "        self.validation_step_loss.clear()\n",
    "        self.validation_step_acc.clear()\n",
    "\n",
    "    def test_step(self, test_batch, batch_idx):\n",
    "        \"\"\"\n",
    "        Test step for the model.\n",
    "\n",
    "        Args:\n",
    "            test_batch (tuple): Batch of test data.\n",
    "            batch_idx (int): Batch index.\n",
    "\n",
    "        Returns:\n",
    "            dict: Dictionary containing test metrics.\n",
    "        \"\"\"\n",
    "        sent_id, mask, labels = test_batch\n",
    "        preds = self(sent_id, mask)\n",
    "        loss, acc = self._shared_eval_step(test_batch, batch_idx)\n",
    "        metrics = {\"test_acc\": acc, \"test_loss\": loss}\n",
    "        self.export_metrics(acc, loss, \"test\")\n",
    "        self.log_dict(metrics)\n",
    "        self.test_step_loss.append(loss)\n",
    "        return metrics\n",
    "\n",
    "    def predict_step(self, predict_batch, batch_idx):\n",
    "        \"\"\"\n",
    "        Prediction step for the model.\n",
    "\n",
    "        Args:\n",
    "            predict_batch (tuple): Batch of data for prediction.\n",
    "            batch_idx (int): Batch index.\n",
    "\n",
    "        Returns:\n",
    "            torch.Tensor: Model predictions.\n",
    "        \"\"\"\n",
    "        sent_id, mask, labels = predict_batch\n",
    "        return self(sent_id, mask)\n",
    "\n",
    "    def _shared_eval_step(self, batch, batch_idx):\n",
    "        \"\"\"\n",
    "        Shared evaluation step for validation and test.\n",
    "\n",
    "        Args:\n",
    "            batch (tuple): Batch of data.\n",
    "            batch_idx (int): Batch index.\n",
    "\n",
    "        Returns:\n",
    "            tuple: Tuple containing loss and accuracy.\n",
    "        \"\"\"\n",
    "        sent_id, mask, labels = batch\n",
    "        preds = self(sent_id, mask)\n",
    "        loss = self.loss(preds, labels)\n",
    "        acc = torch.sum(labels == torch.argmax(preds, dim=1)).item() / len(labels)\n",
    "        return loss, acc"
   ]
  },
  {
   "cell_type": "markdown",
   "metadata": {},
   "source": [
    "### **Data Loader**"
   ]
  },
  {
   "cell_type": "code",
   "execution_count": 100,
   "metadata": {},
   "outputs": [],
   "source": [
    "class DataModule(pl.LightningDataModule):\n",
    "    def __init__(self, batch_size=32, max_length=256, test_nrows=None):\n",
    "        \"\"\"\n",
    "        Lightning DataModule for handling data loading and tokenization.\n",
    "\n",
    "        Args:\n",
    "            batch_size (int): Batch size for data loaders.\n",
    "            max_length (int): Maximum length of tokenized sequences.\n",
    "            test_nrows (int): Number of rows to consider in the test set.\n",
    "        \"\"\"\n",
    "        super().__init__()\n",
    "        self.batch_size = batch_size\n",
    "        self.max_length = max_length\n",
    "        self.test_nrows = test_nrows\n",
    "        self.tokenizer = BertTokenizer.from_pretrained(\"bert-base-uncased\")\n",
    "\n",
    "    def tokenize(self, df):\n",
    "        \"\"\"\n",
    "        Tokenize the input dataframe and convert it to a TensorDataset.\n",
    "\n",
    "        Args:\n",
    "            df (pd.DataFrame): Input dataframe.\n",
    "\n",
    "        Returns:\n",
    "            TensorDataset: Tokenized and converted dataset.\n",
    "        \"\"\"\n",
    "        tokens = self.tokenizer.__call__(\n",
    "            df[\"body\"].tolist(),\n",
    "            padding=True,\n",
    "            max_length=self.max_length,\n",
    "            truncation=True,\n",
    "        )\n",
    "\n",
    "        # Convert the integer sequences to tensors.\n",
    "        seq = torch.tensor(tokens[\"input_ids\"])\n",
    "        mask = torch.tensor(tokens[\"attention_mask\"])\n",
    "        if \"label\" in df.columns:\n",
    "            y = torch.tensor(df[\"label\"].tolist())\n",
    "            return TensorDataset(seq, mask, y)\n",
    "        else:\n",
    "            return TensorDataset(seq, mask)\n",
    "\n",
    "    def setup(self, stage):\n",
    "        \"\"\"\n",
    "        Set up data for different stages: weight calculation, training, validation, testing, or prediction.\n",
    "\n",
    "        Args:\n",
    "            stage (str): Current stage.\n",
    "        \"\"\"\n",
    "        if stage == \"weight_calc\":\n",
    "            # For weight calculation, use the training data\n",
    "            df_train = train_data\n",
    "            class_weights = compute_class_weight(\n",
    "                class_weight=\"balanced\",\n",
    "                classes=np.unique(df_train[\"label\"]),\n",
    "                y=df_train[\"label\"],\n",
    "            )\n",
    "            self.weights = torch.tensor(class_weights, dtype=torch.float)\n",
    "\n",
    "        if stage == \"fit\":\n",
    "            # For training and validation, use the training and validation data\n",
    "            df_train = train_data\n",
    "            df_val = val_data\n",
    "\n",
    "            self.train_data = self.tokenize(df_train)\n",
    "            self.val_data = self.tokenize(df_val)\n",
    "\n",
    "        if stage == \"test\" or stage == \"predict\":\n",
    "            # For testing or prediction, use the test and labelled data\n",
    "            df_test = test_data\n",
    "            self.test_data = self.tokenize(df_test)\n",
    "            self.train_val_data = self.tokenize(labelled_data)\n",
    "\n",
    "    def get_weights(self):\n",
    "        \"\"\"\n",
    "        Get class weights for the weighted loss function.\n",
    "\n",
    "        Returns:\n",
    "            torch.Tensor: Class weights.\n",
    "        \"\"\"\n",
    "        return self.weights\n",
    "\n",
    "    def train_dataloader(self):\n",
    "        \"\"\"\n",
    "        Training data loader.\n",
    "\n",
    "        Returns:\n",
    "            DataLoader: Training data loader.\n",
    "        \"\"\"\n",
    "        return DataLoader(self.train_data, drop_last=True, batch_size=self.batch_size)\n",
    "\n",
    "    def train_val_dataloader(self):\n",
    "        \"\"\"\n",
    "        Combined training and validation data loader for calculating metrics during training.\n",
    "\n",
    "        Returns:\n",
    "            DataLoader: Combined training and validation data loader.\n",
    "        \"\"\"\n",
    "        return DataLoader(\n",
    "            self.train_val_data, drop_last=True, batch_size=self.batch_size\n",
    "        )\n",
    "\n",
    "    def val_dataloader(self):\n",
    "        \"\"\"\n",
    "        Validation data loader.\n",
    "\n",
    "        Returns:\n",
    "            DataLoader: Validation data loader.\n",
    "        \"\"\"\n",
    "        return DataLoader(self.val_data, drop_last=True, batch_size=self.batch_size)\n",
    "\n",
    "    def test_dataloader(self):\n",
    "        \"\"\"\n",
    "        Test data loader.\n",
    "\n",
    "        Returns:\n",
    "            DataLoader: Test data loader.\n",
    "        \"\"\"\n",
    "        return DataLoader(self.test_data, drop_last=True, batch_size=self.batch_size)\n",
    "\n",
    "    def predict_dataloader(self):\n",
    "        \"\"\"\n",
    "        Prediction data loader.\n",
    "\n",
    "        Returns:\n",
    "            DataLoader: Prediction data loader.\n",
    "        \"\"\"\n",
    "        return DataLoader(self.test_data, drop_last=True, batch_size=self.batch_size)"
   ]
  },
  {
   "cell_type": "markdown",
   "metadata": {},
   "source": [
    "### **Model Training**"
   ]
  },
  {
   "cell_type": "code",
   "execution_count": 101,
   "metadata": {},
   "outputs": [
    {
     "name": "stderr",
     "output_type": "stream",
     "text": [
      "GPU available: False, used: False\n",
      "TPU available: False, using: 0 TPU cores\n",
      "IPU available: False, using: 0 IPUs\n",
      "HPU available: False, using: 0 HPUs\n",
      "/Library/Frameworks/Python.framework/Versions/3.9/lib/python3.9/site-packages/transformers/optimization.py:411: FutureWarning:\n",
      "\n",
      "This implementation of AdamW is deprecated and will be removed in a future version. Use the PyTorch implementation torch.optim.AdamW instead, or set `no_deprecation_warning=True` to disable this warning\n",
      "\n",
      "\n",
      "  | Name    | Type       | Params\n",
      "---------------------------------------\n",
      "0 | loss    | NLLLoss    | 0     \n",
      "1 | bert    | BertModel  | 109 M \n",
      "2 | dropout | Dropout    | 0     \n",
      "3 | relu    | ReLU       | 0     \n",
      "4 | fc1     | Linear     | 393 K \n",
      "5 | fc2     | Linear     | 2.6 K \n",
      "6 | softmax | LogSoftmax | 0     \n",
      "---------------------------------------\n",
      "46.1 M    Trainable params\n",
      "63.8 M    Non-trainable params\n",
      "109 M     Total params\n",
      "439.514   Total estimated model params size (MB)\n"
     ]
    },
    {
     "data": {
      "application/vnd.jupyter.widget-view+json": {
       "model_id": "e11693ca6e6e4f12bcb81cd63bcfe508",
       "version_major": 2,
       "version_minor": 0
      },
      "text/plain": [
       "Sanity Checking: |          | 0/? [00:00<?, ?it/s]"
      ]
     },
     "metadata": {},
     "output_type": "display_data"
    },
    {
     "name": "stderr",
     "output_type": "stream",
     "text": [
      "/Library/Frameworks/Python.framework/Versions/3.9/lib/python3.9/site-packages/pytorch_lightning/trainer/connectors/data_connector.py:441: PossibleUserWarning:\n",
      "\n",
      "The 'val_dataloader' does not have many workers which may be a bottleneck. Consider increasing the value of the `num_workers` argument` to `num_workers=15` in the `DataLoader` to improve performance.\n",
      "\n",
      "/Library/Frameworks/Python.framework/Versions/3.9/lib/python3.9/site-packages/pytorch_lightning/trainer/connectors/data_connector.py:441: PossibleUserWarning:\n",
      "\n",
      "The 'train_dataloader' does not have many workers which may be a bottleneck. Consider increasing the value of the `num_workers` argument` to `num_workers=15` in the `DataLoader` to improve performance.\n",
      "\n"
     ]
    },
    {
     "data": {
      "application/vnd.jupyter.widget-view+json": {
       "model_id": "e001b1274a1640ecb7ff5912ebf8205d",
       "version_major": 2,
       "version_minor": 0
      },
      "text/plain": [
       "Training: |          | 0/? [00:00<?, ?it/s]"
      ]
     },
     "metadata": {},
     "output_type": "display_data"
    },
    {
     "data": {
      "application/vnd.jupyter.widget-view+json": {
       "model_id": "0f8f85a3e4f446f4ade474c12b5cd74c",
       "version_major": 2,
       "version_minor": 0
      },
      "text/plain": [
       "Validation: |          | 0/? [00:00<?, ?it/s]"
      ]
     },
     "metadata": {},
     "output_type": "display_data"
    },
    {
     "data": {
      "application/vnd.jupyter.widget-view+json": {
       "model_id": "a915f68dc67f42019632ac28b052a826",
       "version_major": 2,
       "version_minor": 0
      },
      "text/plain": [
       "Validation: |          | 0/? [00:00<?, ?it/s]"
      ]
     },
     "metadata": {},
     "output_type": "display_data"
    },
    {
     "data": {
      "application/vnd.jupyter.widget-view+json": {
       "model_id": "9e6e198c5b7e4c80a51e0507a18f3813",
       "version_major": 2,
       "version_minor": 0
      },
      "text/plain": [
       "Validation: |          | 0/? [00:00<?, ?it/s]"
      ]
     },
     "metadata": {},
     "output_type": "display_data"
    },
    {
     "data": {
      "application/vnd.jupyter.widget-view+json": {
       "model_id": "a9e11539dbdd4e0cbede685ba1034ac4",
       "version_major": 2,
       "version_minor": 0
      },
      "text/plain": [
       "Validation: |          | 0/? [00:00<?, ?it/s]"
      ]
     },
     "metadata": {},
     "output_type": "display_data"
    },
    {
     "data": {
      "application/vnd.jupyter.widget-view+json": {
       "model_id": "2931fd6436434b30acaed6083bf90523",
       "version_major": 2,
       "version_minor": 0
      },
      "text/plain": [
       "Validation: |          | 0/? [00:00<?, ?it/s]"
      ]
     },
     "metadata": {},
     "output_type": "display_data"
    },
    {
     "data": {
      "application/vnd.jupyter.widget-view+json": {
       "model_id": "7c242007a27d413bb9bfb5fe33e44bdc",
       "version_major": 2,
       "version_minor": 0
      },
      "text/plain": [
       "Validation: |          | 0/? [00:00<?, ?it/s]"
      ]
     },
     "metadata": {},
     "output_type": "display_data"
    },
    {
     "data": {
      "application/vnd.jupyter.widget-view+json": {
       "model_id": "f551708ccd424ea8b5b45a9e5cb96612",
       "version_major": 2,
       "version_minor": 0
      },
      "text/plain": [
       "Validation: |          | 0/? [00:00<?, ?it/s]"
      ]
     },
     "metadata": {},
     "output_type": "display_data"
    },
    {
     "data": {
      "application/vnd.jupyter.widget-view+json": {
       "model_id": "c0b071dbf91b42f2820545ce1c3ab101",
       "version_major": 2,
       "version_minor": 0
      },
      "text/plain": [
       "Validation: |          | 0/? [00:00<?, ?it/s]"
      ]
     },
     "metadata": {},
     "output_type": "display_data"
    },
    {
     "data": {
      "application/vnd.jupyter.widget-view+json": {
       "model_id": "735a1f4a3cf346ba88b753b772c64b40",
       "version_major": 2,
       "version_minor": 0
      },
      "text/plain": [
       "Validation: |          | 0/? [00:00<?, ?it/s]"
      ]
     },
     "metadata": {},
     "output_type": "display_data"
    },
    {
     "name": "stdout",
     "output_type": "stream",
     "text": [
      "Epoch 00009: reducing learning rate of group 0 to 5.0000e-05.\n"
     ]
    },
    {
     "data": {
      "application/vnd.jupyter.widget-view+json": {
       "model_id": "05037a23fcb04eedb01baffe5384bb5a",
       "version_major": 2,
       "version_minor": 0
      },
      "text/plain": [
       "Validation: |          | 0/? [00:00<?, ?it/s]"
      ]
     },
     "metadata": {},
     "output_type": "display_data"
    },
    {
     "name": "stderr",
     "output_type": "stream",
     "text": [
      "/Library/Frameworks/Python.framework/Versions/3.9/lib/python3.9/site-packages/pytorch_lightning/trainer/connectors/data_connector.py:441: PossibleUserWarning:\n",
      "\n",
      "The 'predict_dataloader' does not have many workers which may be a bottleneck. Consider increasing the value of the `num_workers` argument` to `num_workers=15` in the `DataLoader` to improve performance.\n",
      "\n"
     ]
    },
    {
     "data": {
      "application/vnd.jupyter.widget-view+json": {
       "model_id": "a5ed2cb49fb141e38135c6cc0f3904c9",
       "version_major": 2,
       "version_minor": 0
      },
      "text/plain": [
       "Predicting: |          | 0/? [00:00<?, ?it/s]"
      ]
     },
     "metadata": {},
     "output_type": "display_data"
    },
    {
     "data": {
      "application/vnd.jupyter.widget-view+json": {
       "model_id": "104fe8cf27284f73aa1d57f94ee1025f",
       "version_major": 2,
       "version_minor": 0
      },
      "text/plain": [
       "Predicting: |          | 0/? [00:00<?, ?it/s]"
      ]
     },
     "metadata": {},
     "output_type": "display_data"
    }
   ],
   "source": [
    "def train_predict():\n",
    "    # Initiate the model and set up the weights\n",
    "    dm = DataModule(batch_size=5, max_length=512, test_nrows=None)\n",
    "    dm.setup(stage=\"weight_calc\")\n",
    "\n",
    "    model = BERT_unfreeze(weights=dm.get_weights(), max_length=512, learning_rate=1e-4)\n",
    "\n",
    "    # Initiate the trainer and fit the model\n",
    "    trainer = pl.Trainer(\n",
    "        default_root_dir=\"/Users/vladandreichuk/Desktop/git_reps/practical-data-science-tutorial/models/BERT_metrics\",\n",
    "        max_epochs=20,\n",
    "        log_every_n_steps=10,\n",
    "        gradient_clip_val=1.0,\n",
    "        accelerator=\"auto\",\n",
    "        devices=\"1\",\n",
    "        callbacks=[\n",
    "            EarlyStopping(monitor=\"val_loss\", min_delta=0.0001, patience=5, mode=\"min\"),\n",
    "            ModelCheckpoint(save_top_k=1, save_last=False, monitor=\"val_loss\"),\n",
    "            TQDMProgressBar(refresh_rate=10),\n",
    "        ],\n",
    "    )\n",
    "\n",
    "    trainer.fit(model, dm)\n",
    "\n",
    "    # Load the best checkpoint for prediction\n",
    "    best_model_checkpoint = trainer.checkpoint_callback.best_model_path\n",
    "    best_model = BERT_unfreeze.load_from_checkpoint(best_model_checkpoint)\n",
    "    test_predictions = trainer.predict(best_model, dm)\n",
    "\n",
    "    # Make predictions using the trained model on the training data\n",
    "    train_predictions = trainer.predict(best_model, dm.train_val_dataloader())\n",
    "\n",
    "    return test_predictions, train_predictions\n",
    "\n",
    "\n",
    "test_predictions, train_predictions = train_predict()"
   ]
  },
  {
   "cell_type": "code",
   "execution_count": 86,
   "metadata": {},
   "outputs": [
    {
     "data": {
      "application/vnd.plotly.v1+json": {
       "config": {
        "plotlyServerURL": "https://plot.ly"
       },
       "data": [
        {
         "mode": "lines",
         "name": "Training Accuracy",
         "type": "scatter",
         "x": [
          2,
          3,
          4,
          5,
          6,
          7,
          8,
          9,
          10
         ],
         "y": [
          0.2749999999999999,
          0.4000000000000001,
          0.2875,
          0.4875,
          0.5874999999999999,
          0.6375000000000001,
          0.9250000000000002,
          0.95,
          0.95
         ]
        },
        {
         "mode": "lines",
         "name": "Validation Accuracy",
         "type": "scatter",
         "x": [
          1,
          2,
          3,
          4,
          5,
          6,
          7,
          8,
          9,
          10
         ],
         "y": [
          0.4,
          0.25,
          0.3,
          0.3,
          0.3,
          0.45,
          0.35,
          0.4,
          0.55,
          0.55
         ]
        }
       ],
       "layout": {
        "legend": {
         "x": 0,
         "y": 1
        },
        "template": {
         "data": {
          "bar": [
           {
            "error_x": {
             "color": "#f2f5fa"
            },
            "error_y": {
             "color": "#f2f5fa"
            },
            "marker": {
             "line": {
              "color": "rgb(17,17,17)",
              "width": 0.5
             },
             "pattern": {
              "fillmode": "overlay",
              "size": 10,
              "solidity": 0.2
             }
            },
            "type": "bar"
           }
          ],
          "barpolar": [
           {
            "marker": {
             "line": {
              "color": "rgb(17,17,17)",
              "width": 0.5
             },
             "pattern": {
              "fillmode": "overlay",
              "size": 10,
              "solidity": 0.2
             }
            },
            "type": "barpolar"
           }
          ],
          "carpet": [
           {
            "aaxis": {
             "endlinecolor": "#A2B1C6",
             "gridcolor": "#506784",
             "linecolor": "#506784",
             "minorgridcolor": "#506784",
             "startlinecolor": "#A2B1C6"
            },
            "baxis": {
             "endlinecolor": "#A2B1C6",
             "gridcolor": "#506784",
             "linecolor": "#506784",
             "minorgridcolor": "#506784",
             "startlinecolor": "#A2B1C6"
            },
            "type": "carpet"
           }
          ],
          "choropleth": [
           {
            "colorbar": {
             "outlinewidth": 0,
             "ticks": ""
            },
            "type": "choropleth"
           }
          ],
          "contour": [
           {
            "colorbar": {
             "outlinewidth": 0,
             "ticks": ""
            },
            "colorscale": [
             [
              0,
              "#0d0887"
             ],
             [
              0.1111111111111111,
              "#46039f"
             ],
             [
              0.2222222222222222,
              "#7201a8"
             ],
             [
              0.3333333333333333,
              "#9c179e"
             ],
             [
              0.4444444444444444,
              "#bd3786"
             ],
             [
              0.5555555555555556,
              "#d8576b"
             ],
             [
              0.6666666666666666,
              "#ed7953"
             ],
             [
              0.7777777777777778,
              "#fb9f3a"
             ],
             [
              0.8888888888888888,
              "#fdca26"
             ],
             [
              1,
              "#f0f921"
             ]
            ],
            "type": "contour"
           }
          ],
          "contourcarpet": [
           {
            "colorbar": {
             "outlinewidth": 0,
             "ticks": ""
            },
            "type": "contourcarpet"
           }
          ],
          "heatmap": [
           {
            "colorbar": {
             "outlinewidth": 0,
             "ticks": ""
            },
            "colorscale": [
             [
              0,
              "#0d0887"
             ],
             [
              0.1111111111111111,
              "#46039f"
             ],
             [
              0.2222222222222222,
              "#7201a8"
             ],
             [
              0.3333333333333333,
              "#9c179e"
             ],
             [
              0.4444444444444444,
              "#bd3786"
             ],
             [
              0.5555555555555556,
              "#d8576b"
             ],
             [
              0.6666666666666666,
              "#ed7953"
             ],
             [
              0.7777777777777778,
              "#fb9f3a"
             ],
             [
              0.8888888888888888,
              "#fdca26"
             ],
             [
              1,
              "#f0f921"
             ]
            ],
            "type": "heatmap"
           }
          ],
          "heatmapgl": [
           {
            "colorbar": {
             "outlinewidth": 0,
             "ticks": ""
            },
            "colorscale": [
             [
              0,
              "#0d0887"
             ],
             [
              0.1111111111111111,
              "#46039f"
             ],
             [
              0.2222222222222222,
              "#7201a8"
             ],
             [
              0.3333333333333333,
              "#9c179e"
             ],
             [
              0.4444444444444444,
              "#bd3786"
             ],
             [
              0.5555555555555556,
              "#d8576b"
             ],
             [
              0.6666666666666666,
              "#ed7953"
             ],
             [
              0.7777777777777778,
              "#fb9f3a"
             ],
             [
              0.8888888888888888,
              "#fdca26"
             ],
             [
              1,
              "#f0f921"
             ]
            ],
            "type": "heatmapgl"
           }
          ],
          "histogram": [
           {
            "marker": {
             "pattern": {
              "fillmode": "overlay",
              "size": 10,
              "solidity": 0.2
             }
            },
            "type": "histogram"
           }
          ],
          "histogram2d": [
           {
            "colorbar": {
             "outlinewidth": 0,
             "ticks": ""
            },
            "colorscale": [
             [
              0,
              "#0d0887"
             ],
             [
              0.1111111111111111,
              "#46039f"
             ],
             [
              0.2222222222222222,
              "#7201a8"
             ],
             [
              0.3333333333333333,
              "#9c179e"
             ],
             [
              0.4444444444444444,
              "#bd3786"
             ],
             [
              0.5555555555555556,
              "#d8576b"
             ],
             [
              0.6666666666666666,
              "#ed7953"
             ],
             [
              0.7777777777777778,
              "#fb9f3a"
             ],
             [
              0.8888888888888888,
              "#fdca26"
             ],
             [
              1,
              "#f0f921"
             ]
            ],
            "type": "histogram2d"
           }
          ],
          "histogram2dcontour": [
           {
            "colorbar": {
             "outlinewidth": 0,
             "ticks": ""
            },
            "colorscale": [
             [
              0,
              "#0d0887"
             ],
             [
              0.1111111111111111,
              "#46039f"
             ],
             [
              0.2222222222222222,
              "#7201a8"
             ],
             [
              0.3333333333333333,
              "#9c179e"
             ],
             [
              0.4444444444444444,
              "#bd3786"
             ],
             [
              0.5555555555555556,
              "#d8576b"
             ],
             [
              0.6666666666666666,
              "#ed7953"
             ],
             [
              0.7777777777777778,
              "#fb9f3a"
             ],
             [
              0.8888888888888888,
              "#fdca26"
             ],
             [
              1,
              "#f0f921"
             ]
            ],
            "type": "histogram2dcontour"
           }
          ],
          "mesh3d": [
           {
            "colorbar": {
             "outlinewidth": 0,
             "ticks": ""
            },
            "type": "mesh3d"
           }
          ],
          "parcoords": [
           {
            "line": {
             "colorbar": {
              "outlinewidth": 0,
              "ticks": ""
             }
            },
            "type": "parcoords"
           }
          ],
          "pie": [
           {
            "automargin": true,
            "type": "pie"
           }
          ],
          "scatter": [
           {
            "marker": {
             "line": {
              "color": "#283442"
             }
            },
            "type": "scatter"
           }
          ],
          "scatter3d": [
           {
            "line": {
             "colorbar": {
              "outlinewidth": 0,
              "ticks": ""
             }
            },
            "marker": {
             "colorbar": {
              "outlinewidth": 0,
              "ticks": ""
             }
            },
            "type": "scatter3d"
           }
          ],
          "scattercarpet": [
           {
            "marker": {
             "colorbar": {
              "outlinewidth": 0,
              "ticks": ""
             }
            },
            "type": "scattercarpet"
           }
          ],
          "scattergeo": [
           {
            "marker": {
             "colorbar": {
              "outlinewidth": 0,
              "ticks": ""
             }
            },
            "type": "scattergeo"
           }
          ],
          "scattergl": [
           {
            "marker": {
             "line": {
              "color": "#283442"
             }
            },
            "type": "scattergl"
           }
          ],
          "scattermapbox": [
           {
            "marker": {
             "colorbar": {
              "outlinewidth": 0,
              "ticks": ""
             }
            },
            "type": "scattermapbox"
           }
          ],
          "scatterpolar": [
           {
            "marker": {
             "colorbar": {
              "outlinewidth": 0,
              "ticks": ""
             }
            },
            "type": "scatterpolar"
           }
          ],
          "scatterpolargl": [
           {
            "marker": {
             "colorbar": {
              "outlinewidth": 0,
              "ticks": ""
             }
            },
            "type": "scatterpolargl"
           }
          ],
          "scatterternary": [
           {
            "marker": {
             "colorbar": {
              "outlinewidth": 0,
              "ticks": ""
             }
            },
            "type": "scatterternary"
           }
          ],
          "surface": [
           {
            "colorbar": {
             "outlinewidth": 0,
             "ticks": ""
            },
            "colorscale": [
             [
              0,
              "#0d0887"
             ],
             [
              0.1111111111111111,
              "#46039f"
             ],
             [
              0.2222222222222222,
              "#7201a8"
             ],
             [
              0.3333333333333333,
              "#9c179e"
             ],
             [
              0.4444444444444444,
              "#bd3786"
             ],
             [
              0.5555555555555556,
              "#d8576b"
             ],
             [
              0.6666666666666666,
              "#ed7953"
             ],
             [
              0.7777777777777778,
              "#fb9f3a"
             ],
             [
              0.8888888888888888,
              "#fdca26"
             ],
             [
              1,
              "#f0f921"
             ]
            ],
            "type": "surface"
           }
          ],
          "table": [
           {
            "cells": {
             "fill": {
              "color": "#506784"
             },
             "line": {
              "color": "rgb(17,17,17)"
             }
            },
            "header": {
             "fill": {
              "color": "#2a3f5f"
             },
             "line": {
              "color": "rgb(17,17,17)"
             }
            },
            "type": "table"
           }
          ]
         },
         "layout": {
          "annotationdefaults": {
           "arrowcolor": "#f2f5fa",
           "arrowhead": 0,
           "arrowwidth": 1
          },
          "autotypenumbers": "strict",
          "coloraxis": {
           "colorbar": {
            "outlinewidth": 0,
            "ticks": ""
           }
          },
          "colorscale": {
           "diverging": [
            [
             0,
             "#8e0152"
            ],
            [
             0.1,
             "#c51b7d"
            ],
            [
             0.2,
             "#de77ae"
            ],
            [
             0.3,
             "#f1b6da"
            ],
            [
             0.4,
             "#fde0ef"
            ],
            [
             0.5,
             "#f7f7f7"
            ],
            [
             0.6,
             "#e6f5d0"
            ],
            [
             0.7,
             "#b8e186"
            ],
            [
             0.8,
             "#7fbc41"
            ],
            [
             0.9,
             "#4d9221"
            ],
            [
             1,
             "#276419"
            ]
           ],
           "sequential": [
            [
             0,
             "#0d0887"
            ],
            [
             0.1111111111111111,
             "#46039f"
            ],
            [
             0.2222222222222222,
             "#7201a8"
            ],
            [
             0.3333333333333333,
             "#9c179e"
            ],
            [
             0.4444444444444444,
             "#bd3786"
            ],
            [
             0.5555555555555556,
             "#d8576b"
            ],
            [
             0.6666666666666666,
             "#ed7953"
            ],
            [
             0.7777777777777778,
             "#fb9f3a"
            ],
            [
             0.8888888888888888,
             "#fdca26"
            ],
            [
             1,
             "#f0f921"
            ]
           ],
           "sequentialminus": [
            [
             0,
             "#0d0887"
            ],
            [
             0.1111111111111111,
             "#46039f"
            ],
            [
             0.2222222222222222,
             "#7201a8"
            ],
            [
             0.3333333333333333,
             "#9c179e"
            ],
            [
             0.4444444444444444,
             "#bd3786"
            ],
            [
             0.5555555555555556,
             "#d8576b"
            ],
            [
             0.6666666666666666,
             "#ed7953"
            ],
            [
             0.7777777777777778,
             "#fb9f3a"
            ],
            [
             0.8888888888888888,
             "#fdca26"
            ],
            [
             1,
             "#f0f921"
            ]
           ]
          },
          "colorway": [
           "#636efa",
           "#EF553B",
           "#00cc96",
           "#ab63fa",
           "#FFA15A",
           "#19d3f3",
           "#FF6692",
           "#B6E880",
           "#FF97FF",
           "#FECB52"
          ],
          "font": {
           "color": "#f2f5fa"
          },
          "geo": {
           "bgcolor": "rgb(17,17,17)",
           "lakecolor": "rgb(17,17,17)",
           "landcolor": "rgb(17,17,17)",
           "showlakes": true,
           "showland": true,
           "subunitcolor": "#506784"
          },
          "hoverlabel": {
           "align": "left"
          },
          "hovermode": "closest",
          "mapbox": {
           "style": "dark"
          },
          "paper_bgcolor": "rgb(17,17,17)",
          "plot_bgcolor": "rgb(17,17,17)",
          "polar": {
           "angularaxis": {
            "gridcolor": "#506784",
            "linecolor": "#506784",
            "ticks": ""
           },
           "bgcolor": "rgb(17,17,17)",
           "radialaxis": {
            "gridcolor": "#506784",
            "linecolor": "#506784",
            "ticks": ""
           }
          },
          "scene": {
           "xaxis": {
            "backgroundcolor": "rgb(17,17,17)",
            "gridcolor": "#506784",
            "gridwidth": 2,
            "linecolor": "#506784",
            "showbackground": true,
            "ticks": "",
            "zerolinecolor": "#C8D4E3"
           },
           "yaxis": {
            "backgroundcolor": "rgb(17,17,17)",
            "gridcolor": "#506784",
            "gridwidth": 2,
            "linecolor": "#506784",
            "showbackground": true,
            "ticks": "",
            "zerolinecolor": "#C8D4E3"
           },
           "zaxis": {
            "backgroundcolor": "rgb(17,17,17)",
            "gridcolor": "#506784",
            "gridwidth": 2,
            "linecolor": "#506784",
            "showbackground": true,
            "ticks": "",
            "zerolinecolor": "#C8D4E3"
           }
          },
          "shapedefaults": {
           "line": {
            "color": "#f2f5fa"
           }
          },
          "sliderdefaults": {
           "bgcolor": "#C8D4E3",
           "bordercolor": "rgb(17,17,17)",
           "borderwidth": 1,
           "tickwidth": 0
          },
          "ternary": {
           "aaxis": {
            "gridcolor": "#506784",
            "linecolor": "#506784",
            "ticks": ""
           },
           "baxis": {
            "gridcolor": "#506784",
            "linecolor": "#506784",
            "ticks": ""
           },
           "bgcolor": "rgb(17,17,17)",
           "caxis": {
            "gridcolor": "#506784",
            "linecolor": "#506784",
            "ticks": ""
           }
          },
          "title": {
           "x": 0.05
          },
          "updatemenudefaults": {
           "bgcolor": "#506784",
           "borderwidth": 0
          },
          "xaxis": {
           "automargin": true,
           "gridcolor": "#283442",
           "linecolor": "#506784",
           "ticks": "",
           "title": {
            "standoff": 15
           },
           "zerolinecolor": "#283442",
           "zerolinewidth": 2
          },
          "yaxis": {
           "automargin": true,
           "gridcolor": "#283442",
           "linecolor": "#506784",
           "ticks": "",
           "title": {
            "standoff": 15
           },
           "zerolinecolor": "#283442",
           "zerolinewidth": 2
          }
         }
        },
        "title": {
         "text": "Training and Validation Accuracy Over Epochs"
        },
        "xaxis": {
         "title": {
          "text": "Epoch"
         }
        },
        "yaxis": {
         "title": {
          "text": "Accuracy"
         }
        }
       }
      }
     },
     "metadata": {},
     "output_type": "display_data"
    },
    {
     "data": {
      "application/vnd.plotly.v1+json": {
       "config": {
        "plotlyServerURL": "https://plot.ly"
       },
       "data": [
        {
         "mode": "lines",
         "name": "Training Loss",
         "type": "scatter",
         "x": [
          2,
          3,
          4,
          5,
          6,
          7,
          8,
          9,
          10
         ],
         "y": [
          1.7297477722167969,
          1.6127195358276367,
          1.5222175121307373,
          1.335433006286621,
          1.0749492645263672,
          0.7555344104766846,
          0.3835822641849518,
          0.1807885020971298,
          0.1176785454154014
         ]
        },
        {
         "mode": "lines",
         "name": "Validation Loss",
         "type": "scatter",
         "x": [
          1,
          2,
          3,
          4,
          5,
          6,
          7,
          8,
          9,
          10
         ],
         "y": [
          1.5113530158996582,
          1.468749761581421,
          1.415976881980896,
          1.4121581315994265,
          1.3976894617080688,
          1.415128231048584,
          1.3995884656906128,
          1.6522181034088137,
          2.116493225097656,
          1.868329405784607
         ]
        }
       ],
       "layout": {
        "legend": {
         "x": 0,
         "y": 1
        },
        "template": {
         "data": {
          "bar": [
           {
            "error_x": {
             "color": "#f2f5fa"
            },
            "error_y": {
             "color": "#f2f5fa"
            },
            "marker": {
             "line": {
              "color": "rgb(17,17,17)",
              "width": 0.5
             },
             "pattern": {
              "fillmode": "overlay",
              "size": 10,
              "solidity": 0.2
             }
            },
            "type": "bar"
           }
          ],
          "barpolar": [
           {
            "marker": {
             "line": {
              "color": "rgb(17,17,17)",
              "width": 0.5
             },
             "pattern": {
              "fillmode": "overlay",
              "size": 10,
              "solidity": 0.2
             }
            },
            "type": "barpolar"
           }
          ],
          "carpet": [
           {
            "aaxis": {
             "endlinecolor": "#A2B1C6",
             "gridcolor": "#506784",
             "linecolor": "#506784",
             "minorgridcolor": "#506784",
             "startlinecolor": "#A2B1C6"
            },
            "baxis": {
             "endlinecolor": "#A2B1C6",
             "gridcolor": "#506784",
             "linecolor": "#506784",
             "minorgridcolor": "#506784",
             "startlinecolor": "#A2B1C6"
            },
            "type": "carpet"
           }
          ],
          "choropleth": [
           {
            "colorbar": {
             "outlinewidth": 0,
             "ticks": ""
            },
            "type": "choropleth"
           }
          ],
          "contour": [
           {
            "colorbar": {
             "outlinewidth": 0,
             "ticks": ""
            },
            "colorscale": [
             [
              0,
              "#0d0887"
             ],
             [
              0.1111111111111111,
              "#46039f"
             ],
             [
              0.2222222222222222,
              "#7201a8"
             ],
             [
              0.3333333333333333,
              "#9c179e"
             ],
             [
              0.4444444444444444,
              "#bd3786"
             ],
             [
              0.5555555555555556,
              "#d8576b"
             ],
             [
              0.6666666666666666,
              "#ed7953"
             ],
             [
              0.7777777777777778,
              "#fb9f3a"
             ],
             [
              0.8888888888888888,
              "#fdca26"
             ],
             [
              1,
              "#f0f921"
             ]
            ],
            "type": "contour"
           }
          ],
          "contourcarpet": [
           {
            "colorbar": {
             "outlinewidth": 0,
             "ticks": ""
            },
            "type": "contourcarpet"
           }
          ],
          "heatmap": [
           {
            "colorbar": {
             "outlinewidth": 0,
             "ticks": ""
            },
            "colorscale": [
             [
              0,
              "#0d0887"
             ],
             [
              0.1111111111111111,
              "#46039f"
             ],
             [
              0.2222222222222222,
              "#7201a8"
             ],
             [
              0.3333333333333333,
              "#9c179e"
             ],
             [
              0.4444444444444444,
              "#bd3786"
             ],
             [
              0.5555555555555556,
              "#d8576b"
             ],
             [
              0.6666666666666666,
              "#ed7953"
             ],
             [
              0.7777777777777778,
              "#fb9f3a"
             ],
             [
              0.8888888888888888,
              "#fdca26"
             ],
             [
              1,
              "#f0f921"
             ]
            ],
            "type": "heatmap"
           }
          ],
          "heatmapgl": [
           {
            "colorbar": {
             "outlinewidth": 0,
             "ticks": ""
            },
            "colorscale": [
             [
              0,
              "#0d0887"
             ],
             [
              0.1111111111111111,
              "#46039f"
             ],
             [
              0.2222222222222222,
              "#7201a8"
             ],
             [
              0.3333333333333333,
              "#9c179e"
             ],
             [
              0.4444444444444444,
              "#bd3786"
             ],
             [
              0.5555555555555556,
              "#d8576b"
             ],
             [
              0.6666666666666666,
              "#ed7953"
             ],
             [
              0.7777777777777778,
              "#fb9f3a"
             ],
             [
              0.8888888888888888,
              "#fdca26"
             ],
             [
              1,
              "#f0f921"
             ]
            ],
            "type": "heatmapgl"
           }
          ],
          "histogram": [
           {
            "marker": {
             "pattern": {
              "fillmode": "overlay",
              "size": 10,
              "solidity": 0.2
             }
            },
            "type": "histogram"
           }
          ],
          "histogram2d": [
           {
            "colorbar": {
             "outlinewidth": 0,
             "ticks": ""
            },
            "colorscale": [
             [
              0,
              "#0d0887"
             ],
             [
              0.1111111111111111,
              "#46039f"
             ],
             [
              0.2222222222222222,
              "#7201a8"
             ],
             [
              0.3333333333333333,
              "#9c179e"
             ],
             [
              0.4444444444444444,
              "#bd3786"
             ],
             [
              0.5555555555555556,
              "#d8576b"
             ],
             [
              0.6666666666666666,
              "#ed7953"
             ],
             [
              0.7777777777777778,
              "#fb9f3a"
             ],
             [
              0.8888888888888888,
              "#fdca26"
             ],
             [
              1,
              "#f0f921"
             ]
            ],
            "type": "histogram2d"
           }
          ],
          "histogram2dcontour": [
           {
            "colorbar": {
             "outlinewidth": 0,
             "ticks": ""
            },
            "colorscale": [
             [
              0,
              "#0d0887"
             ],
             [
              0.1111111111111111,
              "#46039f"
             ],
             [
              0.2222222222222222,
              "#7201a8"
             ],
             [
              0.3333333333333333,
              "#9c179e"
             ],
             [
              0.4444444444444444,
              "#bd3786"
             ],
             [
              0.5555555555555556,
              "#d8576b"
             ],
             [
              0.6666666666666666,
              "#ed7953"
             ],
             [
              0.7777777777777778,
              "#fb9f3a"
             ],
             [
              0.8888888888888888,
              "#fdca26"
             ],
             [
              1,
              "#f0f921"
             ]
            ],
            "type": "histogram2dcontour"
           }
          ],
          "mesh3d": [
           {
            "colorbar": {
             "outlinewidth": 0,
             "ticks": ""
            },
            "type": "mesh3d"
           }
          ],
          "parcoords": [
           {
            "line": {
             "colorbar": {
              "outlinewidth": 0,
              "ticks": ""
             }
            },
            "type": "parcoords"
           }
          ],
          "pie": [
           {
            "automargin": true,
            "type": "pie"
           }
          ],
          "scatter": [
           {
            "marker": {
             "line": {
              "color": "#283442"
             }
            },
            "type": "scatter"
           }
          ],
          "scatter3d": [
           {
            "line": {
             "colorbar": {
              "outlinewidth": 0,
              "ticks": ""
             }
            },
            "marker": {
             "colorbar": {
              "outlinewidth": 0,
              "ticks": ""
             }
            },
            "type": "scatter3d"
           }
          ],
          "scattercarpet": [
           {
            "marker": {
             "colorbar": {
              "outlinewidth": 0,
              "ticks": ""
             }
            },
            "type": "scattercarpet"
           }
          ],
          "scattergeo": [
           {
            "marker": {
             "colorbar": {
              "outlinewidth": 0,
              "ticks": ""
             }
            },
            "type": "scattergeo"
           }
          ],
          "scattergl": [
           {
            "marker": {
             "line": {
              "color": "#283442"
             }
            },
            "type": "scattergl"
           }
          ],
          "scattermapbox": [
           {
            "marker": {
             "colorbar": {
              "outlinewidth": 0,
              "ticks": ""
             }
            },
            "type": "scattermapbox"
           }
          ],
          "scatterpolar": [
           {
            "marker": {
             "colorbar": {
              "outlinewidth": 0,
              "ticks": ""
             }
            },
            "type": "scatterpolar"
           }
          ],
          "scatterpolargl": [
           {
            "marker": {
             "colorbar": {
              "outlinewidth": 0,
              "ticks": ""
             }
            },
            "type": "scatterpolargl"
           }
          ],
          "scatterternary": [
           {
            "marker": {
             "colorbar": {
              "outlinewidth": 0,
              "ticks": ""
             }
            },
            "type": "scatterternary"
           }
          ],
          "surface": [
           {
            "colorbar": {
             "outlinewidth": 0,
             "ticks": ""
            },
            "colorscale": [
             [
              0,
              "#0d0887"
             ],
             [
              0.1111111111111111,
              "#46039f"
             ],
             [
              0.2222222222222222,
              "#7201a8"
             ],
             [
              0.3333333333333333,
              "#9c179e"
             ],
             [
              0.4444444444444444,
              "#bd3786"
             ],
             [
              0.5555555555555556,
              "#d8576b"
             ],
             [
              0.6666666666666666,
              "#ed7953"
             ],
             [
              0.7777777777777778,
              "#fb9f3a"
             ],
             [
              0.8888888888888888,
              "#fdca26"
             ],
             [
              1,
              "#f0f921"
             ]
            ],
            "type": "surface"
           }
          ],
          "table": [
           {
            "cells": {
             "fill": {
              "color": "#506784"
             },
             "line": {
              "color": "rgb(17,17,17)"
             }
            },
            "header": {
             "fill": {
              "color": "#2a3f5f"
             },
             "line": {
              "color": "rgb(17,17,17)"
             }
            },
            "type": "table"
           }
          ]
         },
         "layout": {
          "annotationdefaults": {
           "arrowcolor": "#f2f5fa",
           "arrowhead": 0,
           "arrowwidth": 1
          },
          "autotypenumbers": "strict",
          "coloraxis": {
           "colorbar": {
            "outlinewidth": 0,
            "ticks": ""
           }
          },
          "colorscale": {
           "diverging": [
            [
             0,
             "#8e0152"
            ],
            [
             0.1,
             "#c51b7d"
            ],
            [
             0.2,
             "#de77ae"
            ],
            [
             0.3,
             "#f1b6da"
            ],
            [
             0.4,
             "#fde0ef"
            ],
            [
             0.5,
             "#f7f7f7"
            ],
            [
             0.6,
             "#e6f5d0"
            ],
            [
             0.7,
             "#b8e186"
            ],
            [
             0.8,
             "#7fbc41"
            ],
            [
             0.9,
             "#4d9221"
            ],
            [
             1,
             "#276419"
            ]
           ],
           "sequential": [
            [
             0,
             "#0d0887"
            ],
            [
             0.1111111111111111,
             "#46039f"
            ],
            [
             0.2222222222222222,
             "#7201a8"
            ],
            [
             0.3333333333333333,
             "#9c179e"
            ],
            [
             0.4444444444444444,
             "#bd3786"
            ],
            [
             0.5555555555555556,
             "#d8576b"
            ],
            [
             0.6666666666666666,
             "#ed7953"
            ],
            [
             0.7777777777777778,
             "#fb9f3a"
            ],
            [
             0.8888888888888888,
             "#fdca26"
            ],
            [
             1,
             "#f0f921"
            ]
           ],
           "sequentialminus": [
            [
             0,
             "#0d0887"
            ],
            [
             0.1111111111111111,
             "#46039f"
            ],
            [
             0.2222222222222222,
             "#7201a8"
            ],
            [
             0.3333333333333333,
             "#9c179e"
            ],
            [
             0.4444444444444444,
             "#bd3786"
            ],
            [
             0.5555555555555556,
             "#d8576b"
            ],
            [
             0.6666666666666666,
             "#ed7953"
            ],
            [
             0.7777777777777778,
             "#fb9f3a"
            ],
            [
             0.8888888888888888,
             "#fdca26"
            ],
            [
             1,
             "#f0f921"
            ]
           ]
          },
          "colorway": [
           "#636efa",
           "#EF553B",
           "#00cc96",
           "#ab63fa",
           "#FFA15A",
           "#19d3f3",
           "#FF6692",
           "#B6E880",
           "#FF97FF",
           "#FECB52"
          ],
          "font": {
           "color": "#f2f5fa"
          },
          "geo": {
           "bgcolor": "rgb(17,17,17)",
           "lakecolor": "rgb(17,17,17)",
           "landcolor": "rgb(17,17,17)",
           "showlakes": true,
           "showland": true,
           "subunitcolor": "#506784"
          },
          "hoverlabel": {
           "align": "left"
          },
          "hovermode": "closest",
          "mapbox": {
           "style": "dark"
          },
          "paper_bgcolor": "rgb(17,17,17)",
          "plot_bgcolor": "rgb(17,17,17)",
          "polar": {
           "angularaxis": {
            "gridcolor": "#506784",
            "linecolor": "#506784",
            "ticks": ""
           },
           "bgcolor": "rgb(17,17,17)",
           "radialaxis": {
            "gridcolor": "#506784",
            "linecolor": "#506784",
            "ticks": ""
           }
          },
          "scene": {
           "xaxis": {
            "backgroundcolor": "rgb(17,17,17)",
            "gridcolor": "#506784",
            "gridwidth": 2,
            "linecolor": "#506784",
            "showbackground": true,
            "ticks": "",
            "zerolinecolor": "#C8D4E3"
           },
           "yaxis": {
            "backgroundcolor": "rgb(17,17,17)",
            "gridcolor": "#506784",
            "gridwidth": 2,
            "linecolor": "#506784",
            "showbackground": true,
            "ticks": "",
            "zerolinecolor": "#C8D4E3"
           },
           "zaxis": {
            "backgroundcolor": "rgb(17,17,17)",
            "gridcolor": "#506784",
            "gridwidth": 2,
            "linecolor": "#506784",
            "showbackground": true,
            "ticks": "",
            "zerolinecolor": "#C8D4E3"
           }
          },
          "shapedefaults": {
           "line": {
            "color": "#f2f5fa"
           }
          },
          "sliderdefaults": {
           "bgcolor": "#C8D4E3",
           "bordercolor": "rgb(17,17,17)",
           "borderwidth": 1,
           "tickwidth": 0
          },
          "ternary": {
           "aaxis": {
            "gridcolor": "#506784",
            "linecolor": "#506784",
            "ticks": ""
           },
           "baxis": {
            "gridcolor": "#506784",
            "linecolor": "#506784",
            "ticks": ""
           },
           "bgcolor": "rgb(17,17,17)",
           "caxis": {
            "gridcolor": "#506784",
            "linecolor": "#506784",
            "ticks": ""
           }
          },
          "title": {
           "x": 0.05
          },
          "updatemenudefaults": {
           "bgcolor": "#506784",
           "borderwidth": 0
          },
          "xaxis": {
           "automargin": true,
           "gridcolor": "#283442",
           "linecolor": "#506784",
           "ticks": "",
           "title": {
            "standoff": 15
           },
           "zerolinecolor": "#283442",
           "zerolinewidth": 2
          },
          "yaxis": {
           "automargin": true,
           "gridcolor": "#283442",
           "linecolor": "#506784",
           "ticks": "",
           "title": {
            "standoff": 15
           },
           "zerolinecolor": "#283442",
           "zerolinewidth": 2
          }
         }
        },
        "title": {
         "text": "Training and Validation Loss Over Epochs"
        },
        "xaxis": {
         "title": {
          "text": "Epoch"
         }
        },
        "yaxis": {
         "title": {
          "text": "NLL Loss"
         }
        }
       }
      }
     },
     "metadata": {},
     "output_type": "display_data"
    }
   ],
   "source": [
    "import plotly.graph_objects as go\n",
    "\n",
    "\n",
    "def bert_train_val_metrics(training_file, validation_file):\n",
    "    \"\"\"\n",
    "    Generate and display interactive plots for training and validation metrics (accuracy and loss).\n",
    "\n",
    "    Args:\n",
    "        training_file (str): Path to the training metrics CSV file.\n",
    "        validation_file (str): Path to the validation metrics CSV file.\n",
    "    \"\"\"\n",
    "    # Read CSV files\n",
    "    train_metrics = pd.read_csv(training_file)\n",
    "    val_metrics = pd.read_csv(validation_file)\n",
    "\n",
    "    # Create Subplots for Accuracy\n",
    "    fig = go.Figure()\n",
    "\n",
    "    # Plot Training and Validation Accuracy\n",
    "    fig.add_trace(\n",
    "        go.Scatter(\n",
    "            x=train_metrics[\"epoch\"],\n",
    "            y=train_metrics[\"acc\"],\n",
    "            mode=\"lines\",\n",
    "            name=\"Training Accuracy\",\n",
    "        )\n",
    "    )\n",
    "    fig.add_trace(\n",
    "        go.Scatter(\n",
    "            x=val_metrics[\"epoch\"],\n",
    "            y=val_metrics[\"acc\"],\n",
    "            mode=\"lines\",\n",
    "            name=\"Validation Accuracy\",\n",
    "        )\n",
    "    )\n",
    "\n",
    "    # Customize the layout for Accuracy\n",
    "    fig.update_layout(\n",
    "        title=\"Training and Validation Accuracy Over Epochs\",\n",
    "        xaxis_title=\"Epoch\",\n",
    "        yaxis_title=\"Accuracy\",\n",
    "        legend=dict(x=0, y=1),\n",
    "        template=\"plotly_dark\",\n",
    "    )\n",
    "\n",
    "    # Show the Accuracy plot\n",
    "    fig.show()\n",
    "\n",
    "    # Create another subplot for Loss\n",
    "    fig_loss = go.Figure()\n",
    "\n",
    "    # Plot Training and Validation Loss\n",
    "    fig_loss.add_trace(\n",
    "        go.Scatter(\n",
    "            x=train_metrics[\"epoch\"],\n",
    "            y=train_metrics[\"loss\"],\n",
    "            mode=\"lines\",\n",
    "            name=\"Training Loss\",\n",
    "        )\n",
    "    )\n",
    "    fig_loss.add_trace(\n",
    "        go.Scatter(\n",
    "            x=val_metrics[\"epoch\"],\n",
    "            y=val_metrics[\"loss\"],\n",
    "            mode=\"lines\",\n",
    "            name=\"Validation Loss\",\n",
    "        )\n",
    "    )\n",
    "\n",
    "    # Customize the layout for Loss\n",
    "    fig_loss.update_layout(\n",
    "        title=\"Training and Validation Loss Over Epochs\",\n",
    "        xaxis_title=\"Epoch\",\n",
    "        yaxis_title=\"NLL Loss\",\n",
    "        legend=dict(x=0, y=1),\n",
    "        template=\"plotly_dark\",\n",
    "    )\n",
    "\n",
    "    # Show the Loss plot\n",
    "    fig_loss.show()\n",
    "\n",
    "\n",
    "# Example usage\n",
    "bert_train_val_metrics(\n",
    "    \"/Users/vladandreichuk/Desktop/git_reps/practical-data-science-tutorial/models/BERT_metrics/max_l512_lr0.0001_train_metrics.csv\",\n",
    "    \"/Users/vladandreichuk/Desktop/git_reps/practical-data-science-tutorial/models/BERT_metrics/max_l512_lr0.0001_val_metrics.csv\",\n",
    ")\n"
   ]
  },
  {
   "cell_type": "markdown",
   "metadata": {},
   "source": [
    "## **Predictions**"
   ]
  },
  {
   "cell_type": "code",
   "execution_count": 102,
   "metadata": {},
   "outputs": [],
   "source": [
    "# Extract predicted test labels\n",
    "test_predicted_labels = []\n",
    "for i in range(len(test_predictions)):\n",
    "    predicted_labels_batch = torch.argmax(test_predictions[i], dim=1)\n",
    "    predicted_labels_batch_list = predicted_labels_batch.tolist()\n",
    "    test_predicted_labels.extend(predicted_labels_batch_list)"
   ]
  },
  {
   "cell_type": "code",
   "execution_count": 103,
   "metadata": {},
   "outputs": [],
   "source": [
    "# Rescale the labels back to 1-5\n",
    "test_predicted_labels = np.array(test_predicted_labels)+1"
   ]
  },
  {
   "cell_type": "code",
   "execution_count": 105,
   "metadata": {},
   "outputs": [],
   "source": [
    "# Extract predicted train labels\n",
    "train_predicted_labels = []\n",
    "for i in range(len(train_predictions)):\n",
    "    predicted_labels_batch = torch.argmax(train_predictions[i], dim=1)\n",
    "    predicted_labels_batch_list = predicted_labels_batch.tolist()\n",
    "    train_predicted_labels.extend(predicted_labels_batch_list)"
   ]
  },
  {
   "cell_type": "code",
   "execution_count": 106,
   "metadata": {},
   "outputs": [],
   "source": [
    "# Rescale the labels back to 1-5\n",
    "train_predicted_labels = np.array(train_predicted_labels)+1"
   ]
  },
  {
   "cell_type": "code",
   "execution_count": 109,
   "metadata": {},
   "outputs": [],
   "source": [
    "# Rescale the labels back to 1-5\n",
    "labelled_data['label'] = labelled_data['label'] + 1"
   ]
  },
  {
   "cell_type": "code",
   "execution_count": 112,
   "metadata": {},
   "outputs": [
    {
     "data": {
      "image/png": "[encoded data removed]",
      "text/plain": [
       "<Figure size 800x600 with 1 Axes>"
      ]
     },
     "metadata": {},
     "output_type": "display_data"
    }
   ],
   "source": [
    "import seaborn as sns\n",
    "from sklearn.metrics import confusion_matrix\n",
    "# Calculate confusion matrix\n",
    "conf_matrix = confusion_matrix(labelled_data['label'], train_predicted_labels)\n",
    "\n",
    "# Create a DataFrame for better visualization\n",
    "conf_df = pd.DataFrame(conf_matrix, index=sorted(labelled_data['label'].unique()), columns=sorted(labelled_data['label'].unique()))\n",
    "\n",
    "# Plot the confusion matrix using seaborn\n",
    "plt.figure(figsize=(8, 6))\n",
    "sns.heatmap(conf_df, annot=True, fmt=\"d\", cmap=\"Blues\", cbar=False)\n",
    "plt.xlabel('Predicted Labels')\n",
    "plt.ylabel('True Labels')\n",
    "plt.title('Confusion Matrix')\n",
    "plt.show()"
   ]
  },
  {
   "cell_type": "code",
   "execution_count": 114,
   "metadata": {},
   "outputs": [
    {
     "name": "stdout",
     "output_type": "stream",
     "text": [
      "Accuracy: 0.74\n",
      "Precision: 0.75\n",
      "Recall: 0.74\n",
      "F1 Score: 0.73\n"
     ]
    },
    {
     "name": "stderr",
     "output_type": "stream",
     "text": [
      "/Library/Frameworks/Python.framework/Versions/3.9/lib/python3.9/site-packages/sklearn/metrics/_classification.py:1469: UndefinedMetricWarning:\n",
      "\n",
      "Precision is ill-defined and being set to 0.0 in labels with no predicted samples. Use `zero_division` parameter to control this behavior.\n",
      "\n"
     ]
    }
   ],
   "source": [
    "from sklearn.metrics import accuracy_score, precision_score, recall_score, f1_score\n",
    "\n",
    "# Calculate evaluation metrics\n",
    "accuracy = accuracy_score(labelled_data[\"label\"], train_predicted_labels)\n",
    "precision = precision_score(\n",
    "    labelled_data[\"label\"], train_predicted_labels, average=\"weighted\"\n",
    ")\n",
    "recall = recall_score(\n",
    "    labelled_data[\"label\"], train_predicted_labels, average=\"weighted\"\n",
    ")\n",
    "f1 = f1_score(labelled_data[\"label\"], train_predicted_labels, average=\"weighted\")\n",
    "\n",
    "print(f\"Accuracy: {accuracy:.2f}\")\n",
    "print(f\"Precision: {precision:.2f}\")\n",
    "print(f\"Recall: {recall:.2f}\")\n",
    "print(f\"F1 Score: {f1:.2f}\")"
   ]
  },
  {
   "cell_type": "markdown",
   "metadata": {},
   "source": [
    "## **Save Labelled Test Data**"
   ]
  },
  {
   "cell_type": "code",
   "execution_count": 115,
   "metadata": {},
   "outputs": [],
   "source": [
    "test_data['BERT_label'] = test_predicted_labels"
   ]
  },
  {
   "cell_type": "code",
   "execution_count": 117,
   "metadata": {},
   "outputs": [],
   "source": [
    "test_data = test_data.drop(columns = ['study_id','label'])"
   ]
  },
  {
   "cell_type": "code",
   "execution_count": 118,
   "metadata": {},
   "outputs": [
    {
     "data": {
      "text/html": [
       "<div>\n",
       "<style scoped>\n",
       "    .dataframe tbody tr th:only-of-type {\n",
       "        vertical-align: middle;\n",
       "    }\n",
       "\n",
       "    .dataframe tbody tr th {\n",
       "        vertical-align: top;\n",
       "    }\n",
       "\n",
       "    .dataframe thead th {\n",
       "        text-align: right;\n",
       "    }\n",
       "</style>\n",
       "<table border=\"1\" class=\"dataframe\">\n",
       "  <thead>\n",
       "    <tr style=\"text-align: right;\">\n",
       "      <th></th>\n",
       "      <th>body</th>\n",
       "      <th>BERT_label</th>\n",
       "    </tr>\n",
       "  </thead>\n",
       "  <tbody>\n",
       "    <tr>\n",
       "      <th>0</th>\n",
       "      <td>The psychological impact of quarantine and how...</td>\n",
       "      <td>3</td>\n",
       "    </tr>\n",
       "    <tr>\n",
       "      <th>1</th>\n",
       "      <td>Global, regional, and national incidence, prev...</td>\n",
       "      <td>3</td>\n",
       "    </tr>\n",
       "    <tr>\n",
       "      <th>2</th>\n",
       "      <td>A novel coronavirus outbreak of global health ...</td>\n",
       "      <td>1</td>\n",
       "    </tr>\n",
       "    <tr>\n",
       "      <th>3</th>\n",
       "      <td>COVID-19 and Italy: what next?</td>\n",
       "      <td>1</td>\n",
       "    </tr>\n",
       "    <tr>\n",
       "      <th>4</th>\n",
       "      <td>Structural racism and health inequities in the...</td>\n",
       "      <td>2</td>\n",
       "    </tr>\n",
       "    <tr>\n",
       "      <th>...</th>\n",
       "      <td>...</td>\n",
       "      <td>...</td>\n",
       "    </tr>\n",
       "    <tr>\n",
       "      <th>1237</th>\n",
       "      <td>Informing the Market: The Effect of Modern Inf...</td>\n",
       "      <td>4</td>\n",
       "    </tr>\n",
       "    <tr>\n",
       "      <th>1238</th>\n",
       "      <td>Winning by Losing: Evidence on the Long-run Ef...</td>\n",
       "      <td>3</td>\n",
       "    </tr>\n",
       "    <tr>\n",
       "      <th>1239</th>\n",
       "      <td>Employment and Wage Insurance within Firms: Wo...</td>\n",
       "      <td>2</td>\n",
       "    </tr>\n",
       "    <tr>\n",
       "      <th>1240</th>\n",
       "      <td>Why Does Fast Loan Growth Predict Poor Perform...</td>\n",
       "      <td>3</td>\n",
       "    </tr>\n",
       "    <tr>\n",
       "      <th>1241</th>\n",
       "      <td>Quantifying Sentiment with News Media across L...</td>\n",
       "      <td>2</td>\n",
       "    </tr>\n",
       "  </tbody>\n",
       "</table>\n",
       "<p>1242 rows × 2 columns</p>\n",
       "</div>"
      ],
      "text/plain": [
       "                                                   body  BERT_label\n",
       "0     The psychological impact of quarantine and how...           3\n",
       "1     Global, regional, and national incidence, prev...           3\n",
       "2     A novel coronavirus outbreak of global health ...           1\n",
       "3                        COVID-19 and Italy: what next?           1\n",
       "4     Structural racism and health inequities in the...           2\n",
       "...                                                 ...         ...\n",
       "1237  Informing the Market: The Effect of Modern Inf...           4\n",
       "1238  Winning by Losing: Evidence on the Long-run Ef...           3\n",
       "1239  Employment and Wage Insurance within Firms: Wo...           2\n",
       "1240  Why Does Fast Loan Growth Predict Poor Perform...           3\n",
       "1241  Quantifying Sentiment with News Media across L...           2\n",
       "\n",
       "[1242 rows x 2 columns]"
      ]
     },
     "execution_count": 118,
     "metadata": {},
     "output_type": "execute_result"
    }
   ],
   "source": [
    "test_data"
   ]
  },
  {
   "cell_type": "code",
   "execution_count": 119,
   "metadata": {},
   "outputs": [],
   "source": [
    "test_data.to_csv('/Users/vladandreichuk/Desktop/git_reps/practical-data-science-tutorial/data/Full_Dataset_Labelled_BERT', index=False) "
   ]
  }
 ],
 "metadata": {
  "kernelspec": {
   "display_name": "Python 3",
   "language": "python",
   "name": "python3"
  },
  "language_info": {
   "codemirror_mode": {
    "name": "ipython",
    "version": 3
   },
   "file_extension": ".py",
   "mimetype": "text/x-python",
   "name": "python",
   "nbconvert_exporter": "python",
   "pygments_lexer": "ipython3",
   "version": "3.9.7"
  },
  "orig_nbformat": 4
 },
 "nbformat": 4,
 "nbformat_minor": 2
}
